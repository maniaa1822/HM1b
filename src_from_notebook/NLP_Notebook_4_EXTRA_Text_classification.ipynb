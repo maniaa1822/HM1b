{
  "cells": [
    {
      "cell_type": "markdown",
      "metadata": {
        "id": "5tjB_5NecD8W"
      },
      "source": [
        "# Sentence classification\n",
        "\n",
        "Multilingual Natural Language Processing 2024\n",
        "\n",
        "Authors: Tommaso Bonomo, Luca Moroni"
      ]
    },
    {
      "cell_type": "code",
      "execution_count": 2,
      "metadata": {
        "colab": {
          "base_uri": "https://localhost:8080/"
        },
        "id": "go7UCdF0cLV5",
        "outputId": "9cd5c48d-ffa6-4b43-842c-ad627b860ad7"
      },
      "outputs": [
        {
          "ename": "NameError",
          "evalue": "name 'nvidia' is not defined",
          "output_type": "error",
          "traceback": [
            "\u001b[0;31m---------------------------------------------------------------------------\u001b[0m",
            "\u001b[0;31mNameError\u001b[0m                                 Traceback (most recent call last)",
            "Cell \u001b[0;32mIn[2], line 1\u001b[0m\n\u001b[0;32m----> 1\u001b[0m \u001b[43mnvidia\u001b[49m\u001b[38;5;241m-\u001b[39msmi\n",
            "\u001b[0;31mNameError\u001b[0m: name 'nvidia' is not defined"
          ]
        }
      ],
      "source": [
        "nvidia-smi"
      ]
    },
    {
      "cell_type": "code",
      "execution_count": 4,
      "metadata": {
        "id": "hVcTh-aUnAeA"
      },
      "outputs": [
        {
          "name": "stderr",
          "output_type": "stream",
          "text": [
            "/home/matteo/AI and Robotics/NLP/HM1b/.venv/lib/python3.12/site-packages/torchtext/data/__init__.py:4: UserWarning: \n",
            "/!\\ IMPORTANT WARNING ABOUT TORCHTEXT STATUS /!\\ \n",
            "Torchtext is deprecated and the last released version will be 0.18 (this one). You can silence this warning by calling the following at the beginnign of your scripts: `import torchtext; torchtext.disable_torchtext_deprecation_warning()`\n",
            "  warnings.warn(torchtext._TORCHTEXT_DEPRECATION_MSG)\n",
            "/home/matteo/AI and Robotics/NLP/HM1b/.venv/lib/python3.12/site-packages/torchtext/vocab/__init__.py:4: UserWarning: \n",
            "/!\\ IMPORTANT WARNING ABOUT TORCHTEXT STATUS /!\\ \n",
            "Torchtext is deprecated and the last released version will be 0.18 (this one). You can silence this warning by calling the following at the beginnign of your scripts: `import torchtext; torchtext.disable_torchtext_deprecation_warning()`\n",
            "  warnings.warn(torchtext._TORCHTEXT_DEPRECATION_MSG)\n",
            "/home/matteo/AI and Robotics/NLP/HM1b/.venv/lib/python3.12/site-packages/torchtext/utils.py:4: UserWarning: \n",
            "/!\\ IMPORTANT WARNING ABOUT TORCHTEXT STATUS /!\\ \n",
            "Torchtext is deprecated and the last released version will be 0.18 (this one). You can silence this warning by calling the following at the beginnign of your scripts: `import torchtext; torchtext.disable_torchtext_deprecation_warning()`\n",
            "  warnings.warn(torchtext._TORCHTEXT_DEPRECATION_MSG)\n"
          ]
        }
      ],
      "source": [
        "### Imports ###\n",
        "import json\n",
        "from pathlib import Path\n",
        "from collections import Counter\n",
        "\n",
        "import torch\n",
        "from torch import nn\n",
        "from torch.nn import functional as F\n",
        "from torch.nn.utils.rnn import pad_sequence\n",
        "from torch.utils.data import Dataset, DataLoader\n",
        "from torchtext.data.utils import get_tokenizer\n",
        "from torchtext.vocab import Vocab, vocab\n",
        "from torch.nn.utils.rnn import pack_padded_sequence"
      ]
    },
    {
      "cell_type": "markdown",
      "metadata": {
        "id": "jYWBeqW-cPi9"
      },
      "source": [
        "# Task definition\n",
        "\n",
        "We define as *text classification* the class of tasks where a single label is associated to a sentence.\n",
        "The most common task that fits this description is **Sentiment Analysis**: given a sentence, a model should predict it's sentiment across a number of classes.\n",
        "\n",
        "In this notebook we will focus on the Stanford Sentiment Treebank corpus, specifically the sentiment classification binary task, where each sentence must be classified as having either positive (1) or negative (0) sentiment.\n",
        "\n",
        "Here are a couple of examples:\n",
        "\n",
        "| Sentence | Sentiment |\n",
        "|----------|-----------|\n",
        "| saw how bad this movie was | negative |\n",
        "|the greatest musicians | positive |\n",
        "| cold movie | negative |\n",
        "| equals the original and in some ways even betters it | positive |\n",
        "| ... | ... |"
      ]
    },
    {
      "cell_type": "markdown",
      "metadata": {
        "id": "p8srcH5OjI0u"
      },
      "source": [
        "# Data preparation\n",
        "\n",
        "We have prepared the SST2 dataset for you at [this repository](http://github.com/tommasobonomo/nlp2024-hw1b). The following cells will extract the needed files in a local folder."
      ]
    },
    {
      "cell_type": "code",
      "execution_count": null,
      "metadata": {
        "colab": {
          "base_uri": "https://localhost:8080/"
        },
        "id": "p0Faqljjm_r9",
        "outputId": "668be7c4-4b95-4011-f455-8f083f18ab7d"
      },
      "outputs": [
        {
          "name": "stdout",
          "output_type": "stream",
          "text": [
            "fatal: destination path 'nlp2024' already exists and is not an empty directory.\n"
          ]
        }
      ],
      "source": [
        "!git clone https://github.com/SapienzaNLP/nlp2024"
      ]
    },
    {
      "cell_type": "code",
      "execution_count": null,
      "metadata": {
        "id": "-vCPOXv4nV-l"
      },
      "outputs": [],
      "source": [
        "train_path = Path(\"nlp2024/notebook4_extra/data/train.jsonl\")\n",
        "validation_path = Path(\"nlp2024/notebook4_extra/data/validate.jsonl\")\n",
        "test_path = Path(\"nlp2024/notebook4_extra/data/test.jsonl\")"
      ]
    },
    {
      "cell_type": "markdown",
      "metadata": {
        "id": "JSSGT7i-n6LM"
      },
      "source": [
        "As you can see, each split is saved in a JSONL file: each line of the file is a JSON object representing a sample of the dataset. Here's an example of what each sample looks like:"
      ]
    },
    {
      "cell_type": "code",
      "execution_count": null,
      "metadata": {
        "colab": {
          "base_uri": "https://localhost:8080/"
        },
        "id": "KJwEL_FCoZaf",
        "outputId": "11dd4401-db72-4e42-f765-e81f97de56ad"
      },
      "outputs": [
        {
          "name": "stdout",
          "output_type": "stream",
          "text": [
            "{\"idx\":1736,\"sentence\":\"a low-budget series on a uhf channel \",\"label\":0}\n",
            "{\"idx\":59242,\"sentence\":\"showtime 's uninspired send-up \",\"label\":0}\n",
            "{\"idx\":27031,\"sentence\":\"it 's difficult to shrug off the annoyance of that chatty fish \",\"label\":0}\n",
            "{\"idx\":63438,\"sentence\":\"cold \",\"label\":0}\n",
            "{\"idx\":60085,\"sentence\":\"the film is a hilarious adventure and i shamelessly enjoyed it . \",\"label\":1}\n",
            "{\"idx\":64415,\"sentence\":\"naturalistic \",\"label\":1}\n",
            "{\"idx\":12067,\"sentence\":\"he 's well worth spending some time with \",\"label\":1}\n",
            "{\"idx\":24528,\"sentence\":\"the metaphors are provocative , but too often , the viewer is left puzzled by the mechanics of the delivery \",\"label\":0}\n",
            "{\"idx\":52294,\"sentence\":\"grows decidedly flimsier with its many out-sized , out of character and logically porous action set pieces \",\"label\":0}\n",
            "{\"idx\":9377,\"sentence\":\") just too bratty for sympathy \",\"label\":0}\n"
          ]
        }
      ],
      "source": [
        "!head nlp2024/notebook4_extra/data/validate.jsonl"
      ]
    },
    {
      "cell_type": "markdown",
      "metadata": {
        "id": "YziGtKXOqdxF"
      },
      "source": [
        "And we can quickly verify how many samples are in each split. We took 10% of the original training file to use as a validation set. There should be 67349 samples for training and validation and 872 for testing."
      ]
    },
    {
      "cell_type": "code",
      "execution_count": null,
      "metadata": {
        "colab": {
          "base_uri": "https://localhost:8080/"
        },
        "id": "AxnEQLdiqc1d",
        "outputId": "6a6ca48a-52d0-49c9-ebeb-907f1570d9fc"
      },
      "outputs": [
        {
          "data": {
            "text/plain": [
              "(60614, 6735, 872)"
            ]
          },
          "execution_count": 6,
          "metadata": {},
          "output_type": "execute_result"
        }
      ],
      "source": [
        "def count_lines(path: Path) -> int:\n",
        "    with open(path, \"rb\") as f:\n",
        "        return sum(1 for _ in f)\n",
        "assert count_lines(train_path) + count_lines(validation_path) == 67349\n",
        "count_lines(train_path), count_lines(validation_path), count_lines(test_path)"
      ]
    },
    {
      "cell_type": "markdown",
      "metadata": {
        "id": "7jZjx5DSuW3w"
      },
      "source": [
        "In this dataset, we have complete sentences and not single tokens. This means we have to perform the tokenization operation ourselves.\n",
        "\n",
        "For this notebook, we will use the basic English tokenizer provided within the `torchtext.data.utils.get_tokenizer`, which normalizes the sentences through some simple rules and splits tokens based on whitespace. We will integrate this tokenizer directly into our dataset class, but here is an example of how it works:"
      ]
    },
    {
      "cell_type": "code",
      "execution_count": 5,
      "metadata": {
        "colab": {
          "base_uri": "https://localhost:8080/"
        },
        "id": "NOPHwyl_tNnK",
        "outputId": "68739d63-79bb-49bd-fb0d-0c8122b0cf90"
      },
      "outputs": [
        {
          "data": {
            "text/plain": [
              "['this', 'movie', 'was', 'the', 'best', 'of', 'my', 'life', '!']"
            ]
          },
          "execution_count": 5,
          "metadata": {},
          "output_type": "execute_result"
        }
      ],
      "source": [
        "tokenizer = get_tokenizer(\"basic_english\")\n",
        "tokenizer(\"This movie was the best of my life!\")"
      ]
    },
    {
      "cell_type": "markdown",
      "metadata": {
        "id": "Ff9CufZnpMwN"
      },
      "source": [
        "The following `SST2Dataset` subclass of `torch.data.Dataset` represents our dataset tokenized with the basic English tokenizer from TorchText. Feel free to explore and use other tokenizers if you feel like it!\n",
        "\n",
        "It also implements a method to build the vocabulary and a `_collate_fn` to be used within a `torch.utils.data.Dataloader` object. This is the usual way to process data in the PyTorch framework. The collate function takes a list of samples, each one obtained through the `__getindex__` function, and collates them together (aka gather and organizes them) to form a batch. Check out the [dedicated section](https://pytorch.org/docs/stable/data.html#working-with-collate-fn) in the PyTorch documentation.\n",
        "\n",
        "In this case, we will use the utility function `pad_sequence` from `torch.utils.rnn` to pad each sentence to a common length, truncating to a predetermined `max_length`. Further information can be found in the [official documentation](https://pytorch.org/docs/stable/data.html)."
      ]
    },
    {
      "cell_type": "code",
      "execution_count": null,
      "metadata": {
        "id": "eztZlStHpLU3"
      },
      "outputs": [],
      "source": [
        "class SST2Dataset(Dataset):\n",
        "    def __init__(\n",
        "        self,\n",
        "        input_file: Path,\n",
        "        max_length: int = 1028,\n",
        "        device: str = \"cuda\"\n",
        "    ):\n",
        "        # Get simple basic English tokenizer\n",
        "        tokenizer = get_tokenizer(\"basic_english\")\n",
        "\n",
        "        # Save samples from input file\n",
        "        self.samples = []\n",
        "        with open(input_file, \"r\") as f:\n",
        "            for line in f:\n",
        "                sample = json.loads(line.strip())\n",
        "                # the sample dictionary contains the following key: idx, sentence and label (integer)\n",
        "                sample[\"tokens\"] = tokenizer(sample[\"sentence\"])\n",
        "                self.samples.append(sample)\n",
        "\n",
        "        # Initialize indexed data attribute but leave it None\n",
        "        # Must be filled through the `.index(vocabulary, label_vocabulary)` method\n",
        "        # each dictionary represents a sentence with two keys: \"input_ids\" and \"label\"\n",
        "        self.indexed_data: list[dict] | None = None\n",
        "\n",
        "        # Keep track of the maximum length to allow for a batch\n",
        "        self.max_length = max_length\n",
        "\n",
        "        # Save device\n",
        "        self.device = torch.device(device)\n",
        "\n",
        "        # Keep track of padding id\n",
        "        self.padding_id: int | None = None\n",
        "\n",
        "    def get_raw_element(self, idx: int) -> dict:\n",
        "        \"\"\"Utility function that gets the raw sample corresponding to `idx`.\"\"\"\n",
        "        return self.samples[idx]\n",
        "\n",
        "    def __len__(self) -> int:\n",
        "        return len(self.samples)\n",
        "\n",
        "    def __getitem__(self, idx: int) -> dict:\n",
        "        if self.indexed_data is None:\n",
        "            raise RuntimeError(\n",
        "                \"Trying to retrieve samples but dataset has not been indexed yet!\"\n",
        "                + \" Be sure to call `.index()` on this object.\"\n",
        "                + \" If you want to retrieve raw elements, call `.get_raw_elements(idx)\"\n",
        "            )\n",
        "        return self.indexed_data[idx]\n",
        "\n",
        "    def get_vocabulary(\n",
        "        self,\n",
        "        pad_token: str = \"<pad>\",\n",
        "        unk_token: str = \"<unk>\",\n",
        "        extra_tokens: list[str] = []\n",
        "    ) -> Vocab:\n",
        "        \"\"\"Builds a `torchtext.vocab.Vocab` object from data stored in this object.\"\"\"\n",
        "        # most_common() returns a list of (token, count) pairs, so we convert them back into dictionary\n",
        "        vocab_counter = dict(Counter(token for sent in self.samples for token in sent[\"tokens\"]).most_common())\n",
        "        # We build the vocabulary through a dictionary like {token: frequency, ...}\n",
        "        vocabulary = vocab(vocab_counter, min_freq=1, specials=[pad_token, unk_token, *extra_tokens])\n",
        "        # vocabulary(list of tokens) returns a list of values, so get the only one\n",
        "        vocabulary.set_default_index(vocabulary([unk_token])[0])\n",
        "        return vocabulary\n",
        "\n",
        "    def set_padding_id(self, value: int) -> None:\n",
        "        self.padding_id = value\n",
        "\n",
        "    def index(self, vocabulary: Vocab) -> None:\n",
        "        \"\"\"Builds `self.indexed_data` by converting raw samples to input_ids following `vocabulary`\"\"\"\n",
        "        if self.indexed_data is not None:\n",
        "            print(\"Dataset has already been indexed. Keeping old index...\")\n",
        "        else:\n",
        "            indexed_data = []\n",
        "            for sample in self.samples:\n",
        "                # append the dictionary containing ids of the input tokens and label\n",
        "                indexed_data.append({\"input_ids\": vocabulary(sample[\"tokens\"]), \"label\": sample[\"label\"]})\n",
        "            self.indexed_data = indexed_data\n",
        "\n",
        "    def _collate_fn(self, raw_batch: list[dict]) -> tuple[torch.Tensor, torch.Tensor, torch.Tensor]:\n",
        "        \"\"\"\n",
        "        Batches together single elements of the dataset.\n",
        "        This function:\n",
        "        - converts each sentence made up of single input_ids to a padded tensor,\n",
        "        - keeps track of the length of each sentence through `sequence_lengths`\n",
        "        - builds a `labels` tensor storing the label for each sentence\n",
        "\n",
        "        Args:\n",
        "            raw_batch (list[dict]): a list of elements, as returned by the `__getitem__()` function.\n",
        "\n",
        "        Returns:\n",
        "            A tuple of three tensors, respectively `(sequence_lengths, padded_sequence, labels)`\n",
        "        \"\"\"\n",
        "        if self.padding_id is None:\n",
        "            raise RuntimeError(\"Padding value not set! Set it through .set_padding_id method.\")\n",
        "\n",
        "        # We need these sequence lengths to construct a `torch.nn.utils.rnn.PackedSequence` in the model\n",
        "        sequence_lengths = torch.tensor([len(sample[\"input_ids\"]) for sample in raw_batch], dtype=torch.long)\n",
        "        padded_sequence = pad_sequence(\n",
        "            (\n",
        "                torch.tensor(sample[\"input_ids\"], dtype=torch.long, device=self.device)\n",
        "                for sample in raw_batch\n",
        "            ),\n",
        "            batch_first=True,\n",
        "            padding_value=self.padding_id\n",
        "        )\n",
        "        labels = torch.tensor([sample[\"label\"] for sample in raw_batch], device=self.device, dtype=torch.long)\n",
        "        return sequence_lengths, padded_sequence, labels"
      ]
    },
    {
      "cell_type": "markdown",
      "metadata": {
        "id": "IREKIBmOjqX2"
      },
      "source": [
        "# Modelling\n",
        "\n",
        "We will stick with the same architecture introduced in [Notebook #4](https://https://colab.research.google.com/drive/1Z4ogGO58owxu0e9-hbUtjJYqud3OuJ1H), i.e. a simple BiLSTM architecture on the input sequence.\n",
        "\n",
        "We will then apply a simple feed-forward layer to the last hidden state to classify the whole sentence as either positive or negative.\n",
        "\n",
        "But we also need to map each token to an embedding through an Embedding layer.\n",
        "\n",
        "\n",
        "![](https://www.researchgate.net/publication/336899835/figure/fig2/AS:819722442518530@1572448468976/Sequence-to-Label-classification-using-LSTM-NN.jpg)\n",
        "\n",
        "\n",
        "## Handling padding tokens\n",
        "\n",
        "Our Dataset class return a Tensor (batch) for every training step. Each sentence present in the batch must have the same length, so the padding token is added to fill missing tokens.\n",
        "\n",
        "![](https://juditacs.github.io/assets/padded_sequence.png)\n",
        "\n",
        "We need to avoid the error computation (gradient flow) to go through the input's padding tokens. To do so, in PyTorch, you can use `pack_padded_sequence` ([doc](https://pytorch.org/docs/stable/generated/torch.nn.utils.rnn.pad_packed_sequence.html)) from `torch.utils.rnn`, a function that removes the padding tokens from the input and gives to the model only the relevant tokens. It does so by keeping in memory two tensors, 1) the flattened element sequence, 2) the batch sizes at each time step (which is dynamically updated at each timestep, based on the sequence lengths). For instance:"
      ]
    },
    {
      "cell_type": "markdown",
      "metadata": {
        "id": "4y9uXG3Qo4Ad"
      },
      "source": [
        "![image.png](data:image/png;base64,iVBORw0KGgoAAAANSUhEUgAAApcAAACQCAYAAABd9kAAAAAgAElEQVR4Xuydd1wURxvHf4hBiTUaNRp77xq7sSOiguKrsRG7KCqKFAvYEUUUFSkKdrFXVCxYo2KvMWKJLcbeUcGAelLe2d274+642zu4O6Q8+0c+SbidnfnOM7O/feaZeUyS2QU1V0JCAhITE5GUlKTuz/T/iAARIAJEgAgQASJABHIIgVy5csHU1BS5c+fW2mITVXHJaU2JREKiUis6+gERIAJEgAgQASJABHIWAU5kmpmZwcTERGPDU4nLL1++kLDMWXZCrSUCRIAIEAEiQASIgM4EOIGZJ08e3cQltxT+9etXnQunHxIBIkAEiAARIAJEgAjkPALfffedxiVyJc8leS1znnFQi4kAESACRIAIEAEikFYCYt5LJXH56dOntJZNvycCRIAIEAEiQASIABHIgQTMzc3VtprEZQ40BmoyESACRIAIEAEiQAT0JUDiUl+CdD8RIAJEgAgQASJABIiAnACJSzIGIkAEiAARIAJEgAgQAYMRIHFpMJRUEBEgAkSACBABIkAEiACJS7IBIkAEiAARIAJEgAgQAYMRIHFpMJRUEBEgAkSACBABIkAEiACJS7IBIkAEiAARIAJEgAgQAYMRIHFpMJRUEBEgAkSACBABIkAEiECWF5f/ntqMs4+T5D1ZrqUdWpbLRT37DQkkf3qHp9HxyFf0ZxQxFxLYJ8fcwN591/BRWi+TgrXQpWt9FPyG9dT26KTHZ7D51EP5z3KV+RV2rStI/1uCmBev8dGsCEoX/V5bUfT3LEJAne0Csbi6bx9uxSRLW1EQdbt0QZ1Cgm0b69LH/rLieDMWRyqXCBCBjCeQ5cXl5gHV4HwiET8WzMvT6zz3LyzsmjvjScqfuAd9fh6J7/0fY02vb1mPb4FAgiuB/WA39xQ+JAI2i5/KGSTdmo8mFv6ILvQDzBmWXOWHYvc+N1Q27vtZLwgJERNRd0IEX8aX2LdIaB2ARxv7SMu8gxnNrRDy4AvylO2FVREBsCqW9T9quPHkkeSl0E69EGahmzXbLiD09YoX5iicjxvT5TAmbA8cq5satX362F/S3RBY91iCx0wPJ8S9R0xxB0RemIHqmXi8GRUmFU4EiECGEsgW4lLTyzBhpwNKOv6H1S82oqtJRs2q+ovLa97tYRXeOsu9DF6FDUdzx+No7BmGlfb1UMAsxZYFcbkdvY6eg3tt5Zfy538iERQ4D6E7r+L113Zp6q/P97dhvKMPdl97AQnMUPLXYVi8fBpaFdOhvz9dRdCwcfA/eQsfJUCe4s3gGLQMk9qWSDUINYmuuMfhcOs+FvvyOuCP01MM+PLW347SM5PoKy6/zZhLT0uV7xGzXZm4PGa9F6em1VW68cvzCEwdPB3bbzxFfKIp8lfsiLnrgtG7ivCxK34JHtHnZTvDpu4PEBv3+thfVp1PtNGjvxMBIpB5CZC4NHjf6C8KsubL4Com/GKLvY2DEbW8K5N5ypeYuLzm2wWDj+SDZYm3CD1aIg3i8h7mWlhj3fc94O01Bg1xCE59p+NO+1W4HdJZa8/eDOyKLmuKYFKABzqXeIKlTk5Y8bIbDl2bh19UPkbERJfQthA0W3UDi20MtUSuvx1pBaDmBzlTXIrbrmZxGY/djq0w6YEl5szh7O80Jg6ZgHOVZuH6ziE6hHwcQP+yw/BlRhS22xdNl7jkulCb/WXN+SQ91kv3EAEikFkIGEBcCi/B4wlJMCtQGs0G+WLZNAsU1aGF3KTXIfBmql+alBuls9dO/cswpU6KhSebWMiFS/Lbw3D6zRm7b7+HxKwYWjsEyOvNeV9KjdoD7vdLDjZEcPdFuPXlOzQYuwN7PBoy4STBnc2usJ++D3djv8DU/Ce0sPeT3i8822zEFLzdPBdX3pkwb5orNmxxQZ084t404SXhx5ayZLFdQu0VeXyOCkHvQQtw6XkcwJ7bymU1Nrg04MUcx7NjeD04NTyFkJ1PkGheAf2W7MYCG8ETx3n5RtnPxPF70czLIpRtMe8OtgwuJPxdqewK+J93KAL6VWNlpywBVx+9CY5PPTA+/DFMilsj6NhK/I8tByfdXYRfW6+ExY4ozGmZerlQTFzK+ihdXi+JhPWfmVzMRk5sij5nbHGaeRHTuuQeHfo7aviWwL6bfmiSBnEJvICfVQusrxuKqwta62D54j/hQz0Ox6T6UUqYQTT2uPSFa9h15nFV9tam2FAZuG11xx3n8dj/MhE/d52Poyv78OPy9cl5GOa8nLehRLP8qNlxBlYH90dFMxNwz56c1A+uH8Pgc+EVcjNv7qT1m+FY31xLu9I65vKjFhtXO5jA5+qkzXYheYD1Yxww6/Df+PBJMN48LXxwh4k4Ts5rtl3wbeJ4mlvOR1i9rejpfxlfzGpi/O79GMfapc12xTyXqlA4++t3ZxhuhQ/XKi5Vn5sez6XwfHH7I3Gp95CkAogAEUgjAQOIy894+/QtPiEeDyLXY7ZnKMxdTmPP6HJaqyKJfYlXsQmpf2daACVKFkrl/VJXoHpxKdTp4wEPNJkWD99LAbDkxYI5fixdlP0zFqt6NsKUu43gt2Yuqlz2QJ/pkWgyL4oJraLggvofX/BD976HYd6oPAbPXIBKOweiT2g5rHsaiiZMfDZgy791RgfAb2gVPN82HfbBHzF1314Mqb6PF5dXSnWC+1JPtHyzFEPt16C01w3eOyF6ST7ixesYXA/6HQOONsK23W6oyFVbxkNyHA51BiCy1iRsDeyGr/snsnrfwIC9VzGziSn/gu6w5B5q/x6CpS6lcNhlALxudZCKpfuY3boD1pj1wAJfVzQqLgjdlE03gvdmZ9FBCFk8AF9XO2LY2jdw4MtO5DevbHBui7nPSqN98wmYNPwdplq7I3r4ERzzqIWEPY4o7fAUC27vRv/CqWMPjSYulYBKmJCoC3fJFNzfOkAn+xFul+DD9fUY1HshSngdx/Jeui+Lyx6vr8dPsRlx0c/w7tNhjG0yBXlnnIWvjRC7K+ur6PX9UXt8FDrNX4WZta/x3tq/ansL3jLehnbAsck0vKpiiTYe7hjwch46T7rHYpNPwiWJCWcW+4pOc7BydnskXPSDk8sxtFl7EnPbFeSFmMu5gvjf+GBMbfceC4eNwI4ik3UQS9rG3GMmwC3gF2eL1atcUeZhCBsX61DO+xo/5sRt1wQ3fTuiXUgChi6Yh9FNf+J5mJjLNlOJ2a4pOJ5nfO0w+Hgifin/O7z96mNTTzvsqO6PB6E9tNqubuLyMx4e8oLdyDPouesgL1q1XfFbhqKcy39Y+mgrfmMfnukXl4KA1hQeROJSW0/Q34kAETA0AQOIS65KMoEJXJhji3Ex7hm2IUBsUtXkCUuOYTGYNSbAfNZ1qeCLxbLuDTCvkC//suEumQeogrcgCpOifNDIahf6Hj2EQtMaY1aSu8ILl3nPmAeJOdDYJXhw3jgJoku3F5Nyt2p6GSQcHYdKg14g6MFG2PJeUKHeW5uG88/i7rMMLs0L4M5MTCu3X1FcjoNl7Z+VYiITz05FrR470WPHdann8SJc6vyGqH4Hpe2QeoCuWEvF6less6uNablm8X2tzeuYEeIy+e0GdK3vgfyzBcGiy8VtfLCw9GKe6fxoMHAmAr3sUFW6w13xfm3ikWPf6bAVzp9wRzkdwj21103TsrjQ54r2x3lcq0/5Tt7vMhu8a7dF8KRKdqBX+bHIH/AYgy+1QK99vyp5ZyXM+2smGC8vUlwfDJR7ftMqTDSOuWfLYNFoFTodSYm55bx8Q16782NO3HaVxaVLhzr4qWAeOUJdbJcvPygfFkk/fi57toVNRDt+haTyLm2x2YLnXl3MJVeJhAhXVB62GZ++K45Ozksxd0xzlGReYG0XV4cuRzroxFof+0trH2qrN/2dCBABIqCNgN7i8tWBibAesQnvzAvzu4C5nYlfWvjpJC6NtywuNFvTi04mHOsEPZHvZuYm74lx7ri9cyjyycWlug0o4i8a2Ys9Zbe4tt+n7iKN4lK6XK96R7Uxh/mNBqr3qbZf2PwyD/tuPGPL4srLqUIowF8Y94fs5S/UO6LNZlya+6tceGjcPPWtPZeSG5jR3har8jjh7BFXlNX+blfCGB/9F1aP6A+fF3ZqN+Zoe7lr+7u2gZj675rEpdAvoRV95WNM6OfXCLy3C3YFuIZrjtfUVk/Vv6dVmGgbc6ohH+aWwg58bbbLL4tPcML88Gt4+SlBafOVLrYr1g5tXnfdPhDZ0VQPIjFjkAMOVVqIC0wwix+zJXwkeJu64Yy/Ld/9f0tXLLYfmo3WPyrH7qa13xTtKa19mHZbpTuIABEgAsoE9BSX9/il1pM2EdjnXpNfhuS8EQOfuekkLo23LC4uLnX3XKoTlxLeYzcpxhlREaPVxJaqvtgNKC45z2X/W/C8vh9D1Bx7o/UFLet7tnT6/MYmOPSaiftWwuYXXbw/optavlXMJWsTt2N3bNdROJDfAfsPT9Ya26ppEki84oX6NocwhC0fu6kcMyP+cjdszKVQP/09l+qOw+K8Zdbb6mLX1QC0UBMDbCxxmcx7LgPRePNl+LZNvWSss+2yEIaYF7ewxpEtb19rjR3/hKDluWlave5iAsuQMZexGwei0kQTBS+yJms7AYfK/bH7Y+qwIJngVrxTH/sjcUmvfSJABDKagEHE5YEWW3DUpxkSb6+Cx8jF2PPjcFxcba+0dGWsholNuomXZ6Jel7WoNm4NfOwqIW/cB3z9qRYqFfooGnPJxWi9vR7CYi4PoPOmXRhZo5BSDOi7cEc0cghHkc6TETDJFmXzmeDNs3eo3LQu81boJi5fhY2BdcB3WLDHD+0KK7vZhJi6u+gZHIyJLL4s+fV/MPmlOsp8ZUvVTX/DNljAk9vhXLEA4h6+Qr4WDVGGFSH+gv7Ijj05B5P6tXhBHPfvdowfPB+veofhkk9z9n9E4tbqx/OxoDvd2mJekuBpUTwgXejb9O8WF2IMk5GgFCP7vTQ+VihdECeeKB+Y4m3m/n9USG/0nHUS+Tv4YLlnB5T4jvu/pihcvKTCsr/wIv97UITSUTLvz27DgcS6aFUhP2N8GYunTMaa+xbYdTcILdOwoUdst+7DoG5o7J0vDTvgZSNF4Lmr7Gis9e3HbOwTYj4XR+3KhSEWc5mXj2M+oBCvWUCJY9KtRWjRwRfRdQZiHtvhzMXeKtqQLuIy+W04hlr7ofjsXZhnVURpaGsec++Yp645pl+vgOHzvDGCt+vniKnUmD+MXJu4fH89Ape+1kENVt/kuEfY6DEMi/7pKt3Z/5dIvPBXPv76T4U45mqFiqnMTendLQ5cP7gCL4p34usV9+8BeDvPwoniE3DhoBNKycmotz/VOTG9MZe0W9xYbxcqlwgQgfQS0FNcAtyyuK3jJvwbn4x8FXsgaFAchs6IUNrhnN7K6XKf+Bd9NP6YPRquK0/zS2lAYQzdfhNzW5tCbLe46m7d1LvXlXeLc/XMXXYkDl30RB0T3cTlNbZBoVNQbvic24vBpVU2wEh3xnoeuMGfvwjThph/dS8GlcjFvHSR8BkzHqHnnwg7vk2rYeqxYxjLPG3iL+gjGF55GML5AtnFdgmXazQQfgpnQmracZtbzS52xQPSZf30cvMQNHU5hWae4QgdVYttnEq5xGIu1e2OVtzZz5Uii3nto3JOpvqd1WUVlvfZzQoxh4oH298M7Anb+acFxszvXqiaJbxXqT+jUJOdybymms65VIztS+sB1kq7ulkNS/bbgmt+bdm/ad4trhpqosqRa6lqucl52mH5rU3onl/YLa4Y+qBO8AgCdRFKzTiFMAfVjXuaxxw+3UWosyNmyeyaMe+58gGCWdIDbeJyt2NdjAp7DWGfuBkKlmkI+wVL5WeSat4tnnoXuyyMRHF+EbNdsWXxcOeGcN7OhZlwY9EcpZsOQYDqOasa7E91fkuPuNRmf9wzyHOpy5uEfkMEiIAhCegtLg1ZmfSUxYuLTJWhJz2tyC73KGQ5YdKy77J7CJRmS9I3Q4+2DUNiBHXZTKTufvEMKdwZmx3hdzNeNEOPtli57NLzWb8dmm1X3ww938L+KENP1rdIagERyMoEsry4pNzimc/8uKOcnvx9BY+Ltpfnedc31zF3FE17lrUoPedX8hs2RsVhjXQXva7ExHM7x+Kv41H4vnodlNd4bJYQk3zMer98x72uz6bffRsC6mxX39zi38L+9B1v34Y+PZUIEIHsQiDLi8vs0hHUDnECXMzdwfc1YNe6QppRcSJxy7V86NK1vtaDrdNcuOgNQnq/uDp95SLbsOVTaVmBwLezv6xAh+pIBIhAdiRA4jI79iq1iQgQASJABIgAESAC34gAictvBJ4eSwSIABEgAkSACBCB7EiAxGV27FVqExEgAkSACBABIkAEvhEBEpffCDw9lgjkZALcxpmn0fFqzkvNyVSo7foQEGzqi8oZt/qUSPcSASKQXgJ6i8uceIZa9j5eJhYHxveE5wd7RKzsI81ApHxWoLozLtNrgNnnPs0pF7NPGw3REoUjf9jZkBlhS99ujjKMTSS/PY2ZDq7ys22bzfgTexxlR7SrG6+G6KesV4aQBnQPO2+0MFpM3IStLg34rHF0EQEikPEEsri4THtqRUMgzrriUhdeLxBs2xbe0QMVcmx/5rOcfMIRPvNL4YDH8pzshuCZPcowjJDIHiw0t+JV2HA0dzyOxp5hWGlfTyGLkvFarr+4TG/fpvc+RRaxStnEWrFECsrZsdSNV0OwTF/d1Sc1YBm2TCzSkaUqHe1gqW1PBw3EQN/rsFx6Ecu7K2eQSkeJdAsRIALpIEDiMh3Qsre4FAOSvhdOOhBnwVuIjfZO05ZmUXsJ6flFlhaX0uw+5vPvY12/79PT/HTekz57lqVyhfRDNO+Ms/C1yc3qYK6UhjSdldLxtliWaaoF3J4MwIXjE1FWObuujmXQz4gAEdCHgEHEZcfwenBqeAohO58g0bwC/ucdioB+1bQuSaimqpM1JHW6xdRN1HRvSmo3bvltEIb4nWKpH5ORv2JHzF0npPYTMmb44XFyGbhtdccd5/HY/zIRP3edj6PSpWDlpSjl1ICcuJyc1A+uH8Pgc+EVchdvhknrN8OxvmLCQ/XdwtVblVe/JbuxwKYEf4Os7BGvNyIgKibNZVuxg8YjL8wAl2pQ8aX6ZU57dAi8mapSKbwEr2bIgy/8b9T3geYXzuf72zDKfiaO34sWUuGxy2LeHWwZXEiLfaY8t/roTXB86oHx4Y9hUtwaQcdWwvbNQtZX29HOpTEiluzEm8S8qNozEOGBXfkle315cX3h3uoSFm64B4lZMbQdtxYbpMtpKXaSC98XroTO01co2LVgXwPnn+Dr1MhpIPIFrUB+Hb262ngppzP8Ca1cVsvrxacu7TYaYfc/MvuwxsLRyXBaXV7a76p9pPrfyuMiX8kmmBDKuEttVxtPsXHB8mwqjTnVspPuLsKvrVfCYkcU5rQ0VbGLlNALswKl0WyQL5ZNs5CGZegzxQnjQGyOks8lLH1jkcrt4KWQAlSTJy5lOV85Fayp+U9oYe8nrbvQJrMRU/B281xceWeCkr+6YsMWF9TJo5vi0ZzdR3y8yuptbjkfYfW2oqf/ZXwxq4nxu/djHOtrMfsTb3ME36bjCUmpOkU5xEH9XCFeryN82d/7y1ZGUpchNi4UK5RwdBwq9b8H79u70b+wSnpd/cyJ7iYCREAHAgYRl1YrH6Phb/7wd6mCeytc4bj0CQbvvYqZTVRfIMo1ksS+xKtYLue3ymVaACU0Zj0Rfivcewd+3QfgfNvV2OZcnf//3xUshp8K5kHi5Zmo12UtSjsEMUHwHUKGjcCmmF44dG0efvn6H1683gHHJtPwqool2ni4Y8DLeeg86R5LJXkSbtXv80Jrxee2WLByFlqa/AmfsW640mQ5TvhZIpyJS5dzBfG/8cGY2u49FrKydxSZjFvhw7Ue0s2/yJbcQ+3fQ7DUpRQOuwyA160O2HfTD01MhNzOzn+YwGraevhYpL1sTeKy4kdxXpwwiHnxGrFMGO5xawuvhwPkIjWldzSJSyETzRqzHljg64pGxYUXp/LynSZrFJ67wbkt5j4rjfbNJ2DS8HeYau2O6OFHcNQ2golLf7yp1gcrlrnih0h39Jn+F/qGXecFit68FG03cBTs1yZiyvljcKrAXkhsie3F6xgk4A1ubAuGx8ITsNpwG/PbmUrtazmK9l+OFawfz85xg2fY32i3+KkOIQNaeEmOw6EO419rErYGdsPX/RNZm29gAD+m4vhl0kl/1YT31kB0NDmMKcPm4nBuWX+Ji8tP7KVbq184mnhuxnyWmjOcs7+71sK40Gp/gqDRNC5MtJTNZ6pxeIoFal/4stCLeDyIXI/ZnqEwdzmNPaNVc5frMKup/IT/yBKZo2TzUPLrv7E1aCoWnm6MHXeD2Lg3geCJO8yHg6R44VJsO5ot8zdgy/x1RgfAb2gVPN82HfbBHzF1314Mqb6PF0tXSnWC+1JPtHyzFEPt16C01w1st+c+jUQuqe1J7i9F974H0HnTLoysyokkmQdQfLxy9T7ja4fBxxPxS/nf4e1XH5t62mFHdX88CK0jOl7F2/xFGiKTuu7K4139XCFer9zi4lJ0XCi/a9KbcjPt1kV3EAEioI6AQcSl5aoq2PFPCNqwyRi4CJc6v+HusNOIcNb/xSDebZpjCCMnNkWvfb/KRVvi2amo1YO9tHnxyE1EwuR3124Lri5ozYTEDvQqP5b3PK382ZP9did67BAEjKBmJcyzZcZ7YzlB4/pgoDwVYVqW3bjfWgaXxjppKkLVnNn6lq1JXHKeTFmO5GPWe3FqWl2NaLk6uNz5PZ3ichwsa/+c5lg6XiResZb211ess6uNablm4d8pj3lx2SDkEYuf4pbXlF9a+vKyDCqKpY+24jfek3QCDpX746nTmRTblQvMWGy0t8H+luE8Oy4dZbvQmnL7So7ZiK41JqCYTp5LRXGZmhfvdRn0AkEPNsKWr1cslnVvgK1Nw1kaycfoX3YYvsyIkgsUZfsTF5cHRteD44fJuLOxD2/LQr2DYXFMGBdiPKuc48aQ5nGhrWzt+eFlAhO4MMcW42Lc8YjVU9+LH3Na5ii5wPywE0M6bIDVkXNwry0TLJo+qoR+mZXkrvBhyeYJCZsn+J0kwn1vnI5I03/qEvMstDbFa56s1Hx1sYuaxivf7qB8WCQV85c928Imoh1OXvgd29vIPgY1jdf0LYunVFbz/Zrr9Quml9bsuRQfF7VUzIR7vhOKLv0Hwewjii4iQAQyloBBxKWioAFuYEoTa5zrcUBrPmV9lsUFTJona9UJV5is18M6/Cq8mqaIy5QlmBTw2l6CqjGXaRWXirzUiUuPJC/5S1WfslPfq9vLLe3iEvwy23jHedh34xlbFjdjy3/DsHj5NLQqptvyn6Y41tQeiNTi0lC8lO2pOlvi7Qe7uReQ9ENBXoh9iX2LUg6HeXGZmm3aXsZivOS7XlXmAiGE4aGKd0c5/KG6ibi4VL/kWRbj/hDElJhtV97lgJKO/2ncmKGtbDHP5asDE2E9YhPemReGOdMCCXHv8aWFn8HEpcY5yi0Zfj37Yf7VePzAVjxYLyPm7Q8YK+UhdIGmvtU2nlTv0/b71JO/Lh44MXGp3O6U8rWPV01tTglfUK2tLsvi3D2a5zRx2xUfF8ofy7pwy9hXLT2NCOQsAgYXl0kPF6NNcz80XHsX/lbiX4z6LItrE5e6ei7VicukKB80sloPyy1X4Ns2dRxlVhGXMk+FLAbTeJ5LhUHDPH3Pb2yCQ6+ZuG+1CrdDOus0or6VuFTnubw/7JDUQzgG+QL/wrL/FWBtELxUGxrslIvLDhvrptNzKc5LiBe7Bc/r+zGkmGq82IG0eS4VPPJreuUG510c9q8DoiJGq41nFLPtqtfFx4W2sjXHXAqe3JM2EdjnXpMX8tz4HfjMzSjiUnGOWvB5LEq7xGPNjTXo/L2J1JMbgFaHdfFcSngP+6QYZw08M6+4lFugxvGqSVymeJdVB7Yuy+JpEpcqtis+LpRrQzGXOk279CMiYDQChhGXO+th2243lHi4E1Md5uNckZEKx9gYre78C5+LP5v6uA2Cl07nY/3e/peAX6qXF425rPXxFYvXPKAQR1VAZSfjHfay64yg51UwfJ43RjT9Cclxj/A2b3M0KJdL1LsjLD+zS3IDs22HIarrCmwbXUcOQfWrPT2ey+S34Rhq7Yfis3dhnlXKURsPg7qhic9b2K9aiVElzsCp73ScL9AXu4754NdCnFdGM6+U+EJpzOU/tnyfVsytGP8qLBtH1hViAfM+fIV8LRqijEksru47B5P6tXjBEvfvdowfPB+veofhkk9zedtfhY2BdcB3WLDHD+0KS0FJl513sjjPeUluOONvqxSraRDPpVhfrHyGJrazMGtCXTwLdMSwtW/gwMc2HmYibgxyzY7EyoHF8fq4N1zGh+EZW6Lf79UehW56yWN6Ax3SGnOphZeEhZY0/Q3bYAHPAA90rlgAcQqsFWMuO+W/jcCRjlgXJ4u5VOwjS2mbbqKt1zWsHsE2jbHwkMY91iBvp8kImGSLsvk+4dErM7RsWJ7vJ/EPJ/Fx8UlL2YCm3eKCuDzQYguO+jRD4u1V8Bi5GHt+HI6Lq+35GGrZxQnYwZd6qAnZ0DzP8GNOwxxVea8jyji/xaLT69C32AccnjkOHrvuoPPiCEy1KM4iHLlLqPeusqOx1rcfzyzmc3HUrlwY78Id0cghHEU6y3ia4M2zd6jctC6LvzaiuJSHa6gbr2aIfRqNP4N+x4CjjfhxXK2QEIsuXLqMV81t1m1GVydOBWGquV7itmsuOi4Ua0W7xXXrI/oVETAeAb3F5c2F1rD0/RPcBmFup2Q923EIXtAfFc10Ww7Vt2nCrsfpOHL7A9uSAuRt7Ik/943Ejyo7VxV3i4u0c6YAACAASURBVKsux6uLY1I9uBjMn2ITeB1r+hTSSVwmx0RgYOORiOqyGtfYJiDZZQhxmXRrEVp0WIRSM04hzEEhrpWJKH6JT7qDfVRHU/ivP6O081sTryLyHfTKMV6qu8Y5gWjhEoY3kmSYFWiK6Yd3waHiUQyvPAzhH7keYJdZfpRrNBB+Ksvi11icYqeg3PA5txeDSwseOXWxZYrLa4YQl2J90TG8OWZanYHP6r8Rb6q4W1xhN7jkO36X74S64XBbehvmlgHMo9Zdabd4Q6dZaLBnCp67/aPDhp7DWnl9eR4JnzHj5Qdnw7Qaph47hrEsLlJ5t3gz/K/ua2y711EuuIQl5vV4kpAX1fsMRZUjy7D3TYL0wPIkPD2+CI5uy3HpeRw/br+r7orIE+6ozIasNq+82LjgNoWJlc3198vNQ9DU5RSaeYYjdFQtqXgDuDrbOm7Cv/HJyFexB4IGxWHojAiVUwsETyEXi5uWWEzROYobM3aD4Hf6mfS0AHdU2ToFK9ipCYp2+PrkPAxzTmFWst8WNq7bshYp7xbn2pi77EgcuuiJOqlCFAy3LK4pJpMbrycvCLGLiju6U06F4Gqo3f64X2lusy6ztjpxmXpJXblegh1ott3cEBsXQq0+48JCO9jROZe6dBL9hggYjYDe4tJoNaOCiYCRCaQlnjVtVVE+JkbxXtWXadrKVf9r47XDELVTLUMhQw+Tln2X3UOgzhsu0i7OjNECw5SZsTZimDpn7lISIpxQfsh2SChDT+buKKpdjiBA4jJHdDM1Uh0B44mylGNiVJ8rOyrLkD1ivHYYspbKZXF5oJ/8fQWPi7ZHSxZqotvFxZs64PuAf6UnB+h2V+b8VcbaSOZkYNhaJT0+g6Nvy6JRjdIoYp4xK2eGbQGVRgSyDwESl9mnL6klaSSQFUVZxorkNAI1+s+f4MSmayhqY4M6hUg8GB03PYAIEAEikE4CJC7TCY5uIwJEgAgQASJABIgAEUhNgMQlWQURIAJEgAgQASJABIiAwQiQuDQYSiqICBABIkAEiAARIAJEgMQl2QARIAJEgAgQASJABIiAwQiQuDQYSiqICBABIkAEiAARIAJEgMQl2QARIAJEgAgQASJABIiAwQjoLS4f7V6CQ0VsMKB1eXm2jZTa/YnVsx+g6diuqKWQwk329+Rn+xC4tyB6DGqFMmrOJTu/1gcvG4yCdZ3CfL5huogAESACRIAIEAEiQAQyNwG9xeXNwK7o6H0JJsXroOfoaXBTEorSNGPxpqjcZggmTh6rJBST7obAwtILt5J/RIPuozBt/GC0KPu9nNhux7oYFRYN84qtYD9hMsZ2qYsCpDIzt0VR7YgAESACRIAIEIEcTUBvccnRk8TeQnjgXASsjcTdzwV5oTjLwx6NS+Vhf/2Mh6fXY4HXUuy78RK5ynFCcTrcetQUPJ2Sj7i2fwl8/ENx+nY8itTtBqdZHhjU7GfeWxn3+CxCF87GsvAovEEZtLcfh+njf0NVysCQow2XGk8EiAARIAJEgAhkTgIGEZfypkneIdJ3AAYEXUG5MYdxalpdpVb/d2cbRvV1w8EXrbH6xUZ0NVHMsiHBmzP+6NXfH38XG4HICzNQXfHPn+5h/egBGLf/IWwWP8WaXrkzJ1GqFREgAkSACBABIkAEcjABg4hLmXcxeOdVvDMtz3sXJzlL4yylnsk581fi5D8SFGOeyTHTxqXEaH56gsh1/pi1JAxRb01Uls8l+HDjAPznLEDoiXtILKpu6T0H9x41nQgQASJABIgAESACmYyA3uLy5kJrWPpe0xAXeRiDKwxBREIRtTGVSXeD0LrdHPzznYoglULa7VAbDuGx+ElVkGYyiFQdIkAEiAARIAJEgAgQAYGA3uLy8dG1+LNENw07uv/EtmX/oflA9bvBk58dw5oLP6KXho0658OWI7Fxf6VNPtRxRIAIEAEiQASIABEgApmXgN7iMvM2jWpGBIgAESACRIAIEAEikNEESFxmNHF6HhEgAkSACBABIkAEsjEBEpfZuHOpaUSACBABIkAEiAARyGgCJC4zmjg9jwgQASJABIgAESAC2ZgAicts3LnUNCJABIgAESACRIAIZDQBEpcZTZyeRwSIABEgAkSACBCBbEyAxGU27lxqGhEgAkSACBABIkAEMpoAiUtGPPnTOzyNjke+oj+jiDxneSyu7tuHWzHJ0j4piLpduqBOISEnZdLjM9h86qG8v3KV+RV2rStkdP9li+cRy2zRjdQIIkAEiAARIAI8gRwuLiW4EtgPdnNP4UMiVHKW38GM5lZY8cIchfNxeczLYUzYHjhWN+XBJex0QKlRB1Hwx4IwY/+dx2IOrgbZklmlg0BCxETUnRDB3/kl9i0SWgfg0cY+6SiJbiECRIAIEAEiQAS+NQGDiEtOaJV0/A+rX2xEVxPBs5cVrldhw9Hc8Tgae4ZhpX09FOBUovwSxOUx6704Na1uquakt83Jb69i/dJFWLLqGP6NL4Vxf5yDe21BsBr3kuDO5skY7bMDUa8+A2bF0NohAMumWaCocR8MfLqKoGHj4H/yFj5KmBAv3gyOQcswqW2JVE/ePKAaPJK8SFwau0+ofCJABIgAESACRiKQg8XlVUz4xRZ7GwcjanlX3vuofBlHXCbsHIMa/k/RqVYuHNn1FEOOZoy45PO4WwajaD8vzBzdHF/3T0Sf6edhu/4u/K04z6zxrpuBXdFlTRFMCvBA5xJPsNTJCStedsOha/Pwi8rHCIlL4/UDlUwEiAARIAJEICMI6Cku96DPzyNxPCFJqa7JJhZyL2by28Nw+s0Zu2+/h8QsP2p1X4QdTGxw3rKkW/PRxGI72rk0RsSSnXiTmBdVewYiXPp3SB5g/RgHzDr8Nz58YuvW7MrTwgd3dg7B9+zflctW9sRxIsX5cAzMLecjrN5W9PS/jC9mNTF+936Mq2+OpLuL8GvrlbDYEYU5LdV5Do0jLmWgZG3vlUHiknuuRCKBmZlMRl+ES53fENXvII551MoIW5M/Izr0d9TwLYF9N/3QhMRlhrKnhxEBIkAEiAARMDYBPcXlZ7x9+hYfD3igybR4+F4KgCUvFszxY+mi7J+P4WdlAb84W6xe5YoyD0Mw1H4dynlfw5bBRaXi0h9vqvXBimWu+CHSnXnT/kLfsOu84Lvp2xHtQhIwdME8jG76E8/CxLwIShflpGUsVvVshCl3G8FvzVxUuezB7o1Ek3lRfNlx0c9wxtcOg48n4pfyv8Pbrz429bTDjur+eBDaAwl7HFHa4SkW3N6N/oVzqeGc/cSlUiMle9C30kiYzb2Pdf04nhlxSfDh+noM6r0QJbyOY3kvWhbPCOr0DCJABIgAESACGUlAT3EpVFVT/GHys2WwaLQKnY6kLP1GTmyKIa/deYEneO/80SDkEZZ355ZmBU/o9/6PsaZXbiVx6dKhDn4qmEfOJjmGxXfWmADzWdex3Z7zg8ZiWfcGmFfIly+bu655t4dlUD4skgrIy55tYRPRDpEXZqDyLm1xotlbXL5k3sP6k+Phf2sX+hY2fpxs0t0QWFh64daX/GgwcCYCvexQVb4zP8XkaVk8I4c/PYsIEAEiQASIgOEJGFVcCuLRD4+TZcf5CA0wtxR2A6deGlYWl/yy+AQnzA+/hpefEpQ2gsjKrhP0hBei3MUJk4lx7ri9cyjyScWlVXhrXkxWV9FPOdlz+TlqPtp1DsAPE08gwrmy4a1KpMT46L+wekR/+Lywwx+np6TqFxKXGdod9DAiQASIABEgAgYnYFRxKXguA9F482X4tjVPVXmt4lJ+hwQxL25hjSNb3r7WGjv+CUHr2E06eS41icucGHPJoi7xZI87uowKQ3GnXdjv0VDNRiaD21iqAhOveKG+zSEMOXESbtKjnWQ/InFpfP70BCJABIgAESACxiRgEHGZeHkm6nVZi2rj1sDHrhLyxn3A159qoVKhd2ypujmmX6+A4fO8MYLFTSa/fo6YSo35w8i1icv31yNw6Wsd1ChuguS4R9joMQyL/ukq3WX8USTmMh8fC/pn0O8YcLQRtu12Q7VCxZSW1YFvs1tcEvsSr2ITkHR/Kbr3PYDOm3ZhZNXvULh4SaWjkA6MrofBl3qo9bqmzyDuINC2N3wusPM85y3HFMufwft7TQugRMlCcpEpfBB4onxgikc4fc9Luev92W04kFgXrSrkZ/1/GYunTMaa+xbYxXawt9RxQ48x6qVvu+h+IkAEiAARIAJEIDUBg4hLIBp/zB4N15Wn+eVroDCGbr+Jua3ZLuxPdxHq7IhZB27wZxyyAxbRc+UDBHfNrVVc7nasi1FhryHsEzdDwTINYb9gqfx8RM27xVPvYq825nCq8ypfbh6Cpi6n0MwzHKGjarENSIqXcWIuuTjQDoE3VXqirMp5lxKss6uNablmGfC8R/U7+03KjVISsElRPmhktQt9DLiL/WZgT9jOPy3v/0LVLOG9Khi9q+RNZZGaPJfGqBdNCESACBABIkAEiIDhCRhIXBq+YhlTokKGHiYt+y67h0AmeoXrW2boERe2xmST3sPh9amTLhl6vkW99GkT3UsEiAARIAJEIKcSyOHiUuh2Lrf4k7+v4HHR9mhZTnYs0bfMLX4A/cs64PuAf6W76DPOPLnjn9qzTVCn2WabysbfRM43TJfc4t+iXhlHnZ5EBIgAESACRCD7ECBxmSn78glObLqGojY2fGxqRl5cnOvB9zVg17pCRj5W67Mya720Vpx+QASIABEgAkQghxEgcZnDOpyaSwSIABEgAkSACBABYxIgcWlMulQ2ESACRIAIEAEiQARyGAESlzmsw6m5RIAIEAEiQASIABEwJoFMLy512exhTEDZqex/T23G2cdJ8iaVa2mn8wYmbtPT0+gvqc7jzE58qC1EgAgQASJABIiA/gQyvbjkjqApNeogCv5YkD/oO4/FHFwNstW/5TmwhHDnJph0NJ61/Ati335Eh8VP5akzgXtY2LU3Vj34ypLFx+H9h2Jw+SMlJ7zQD3vYoeuF0WLiJmx1afBNsvvkwG6jJhMBIkAEiAARyFIEsoS4LOn4H1a/2IiuKtlcREl/uoqgYePgf/IWf3h3nuLN4Bi0TH4AuzF7SfC2JqD1721QxkQlX7oxH8zSO97Z7IqBk8Pxb3wy8lXsgcU75sPmZ9XDysXrlDpzkrTSko84HTQQA32vw3LpRXZMUhGjtoYKJwJEgAgQASJABLIegWwrLm8GdkWXNUUwKcADnUs8wVInJ6x42U2aOtK4x/twZzK2C62JfTf90MRkL/r8PBLf+z9W8BIax1BkaThLOwQhoN93CBk2AjvyjMXZI64oq9TkdIpLvtqx2DygBdyeDMCF4xNVyjVOu6hUIkAEiAARIAJEIOsQyLbiUrULokN/Rw3fElLBZ1xxuWNoDbhEu+FW+HAURMZ5LiMnNkXvE9bydI6JZ6eiVo/jcDhxEm7VWSpO+aWPuGSr5kfHoVL/e/C+vRv9C8sOnc86Rk81JQJEgAgQASJABIxHIAeISwk+XF+PQb0XooTXcSzvVcJ4NPmSb2BKE2uc6LQLZ7wasv/OKHGZko/8zswCWBL+Fd1HfYV75bHIH6DqNdVPXGpcNjcyWSqeCBABIkAEiAARyPwEsrW4TLobAgtLL9z6kh8NBs5EoJcdqpob12sJyQ70Ku+KH5bIUjdmlLgU8pGHVvRFQL5ZcAj/jMFb5uJR/7FqluT1E5eCYHZC0aX/IFieiz3zGzvVkAgQASJABIgAETA+gWwtLmX44qP/wuoR/eHzwg5/sJzZ1Y2oL4Wl6AP4bdMujKzKLRkfwdgmU5B3xgUsH1IGBbgt70a5FDyXXj9hZ1QeWFi/gnPFUQYXl+S5NEoHUqFEgAgQASJABLIFgRwhLrmeSrzihfo2hzAkVfyhYfvxYVA3NJl9QU2hZTFO4Wgfwz5VKE19zOVhDDmacqSQ8Ev9PJcUc2mM3qMyiQARIAJEgAhkDwLZVly+P7sNBxLrolWF/Eh+fRmLp0zGmvsW2HU3CC3lRxqdgEPl/vh7UAROTatrpB5VL+Q4EdrYO1/aj1gSqaW63eKbvwyWb/BJuVUfcUm7xY1kKFQsESACRIAIEIFsQSDbisubgT1hO/80f8Yl2HHfhapZwntVMHpXUTjzkY+PVLfhxZB9q17IXfZsC5uIdmqEnz7PVj7nMn/Fjpi7TqXNenkuP+PCQjvY0TmX+nQS3UsEiAARIAJEIFsTyBLi0lgZer5l7ODmAdXgkeSFRxv7ZJiB6ZWhJ8IJ5Ydsh4Qy9GRYf9GDiAARIAJEgAhkRQKZXlwaM7d4wh5HlB4VhzVPQ9E5Ldl/9O7pe5jdugOOWe/HMY9aepemawH65Bbn+uHo27JoVKM0ihh7x72uDaLfEQEiQASIABEgApmOQKYXl8YkxgmmLdfyoUvX+uyw84y8YnF13z7E1emLluXoEPKMJE/PIgJEgAgQASJABIxLIEeLS+OipdKJABEgAkSACBABIpDzCJC4zHl9Ti0mAkSACBABIkAEiIDRCJC4NBpaKpgIEAEiQASIABEgAjmPAInLnNfn1GIikIMJSBDz4jViUQAlShZih5TRRQSIwLcgIL7B1Dg1So65gb37ruGjtHiTgrWU9lzERT/DO0l+mhsMgD8Li8uMytltAMrpKCLp1gr8b9B2tFkRjnH1zfkSrnm3R4fAm/y/m5QbZeAzMtNRyUx/S+axkYSdDijp+J+GQ/OFvPDHrPem6zB/zi6swluTPWixx+S3hzHGZiS2P4xXGD/GtBFjli3eWMPYhHBurv30fbgb+wXJBXsqJaFQN0dl+ikhk1WQmxdKjdrD1yrZxMKgSTX0a6rxbZc7js/5RCJ+LCicPd157l9Y2DW3ftXWcnfS3RBY91iCx8lAQtx7xBR3UJo3+TodjkHuHxpi6pYdcJS+e41aqWxauEHEpfiL01jkjG/8xqq5LrwSI6eght02tF3CcpJ3L8JXRRL7Eq9iE/B30O8YcLw9iQmtHZR5bITEpdbOMu4PJDcwo70tViX9D2s2zUaHct9Ln2dMG9G/7PSKxPTep9gJihm/Ah3qwdxU2durbo7SvxPT96ElnFnsx0QDUw0qV7Uxh9P10aZ/W7SXkPzpHZ5GxyPhgAeaTEvKcHGpeV7S33a1tV7jWc+friJo2Dj4n7zFJ0HJU7wZHIOWYVLbEtqKZH+Pxh8L3TB58R/4Nz4BpuYV8D/vUAT0q5ZqlULTGJHEXsSivkOw8G4jrLkcCpvCJjo8l36iSoDE5TewCV3EpVi1DPHi+AbN/gaPNP4EqWujSFzqSso4v4te3x+1xj/FlPPH4FRB8fgvY9qI/mWnd6yn9z5F+nwWsb0t8cfl2aidYe/X9IlLSD7ixesYJLAG8B/fRxth2243VGT1/q5gMfxUMI9xDMtAper7TkhvNTKjuLwZ2BVd1hTBpAAPdC7xBEudnLDiZTccujYPv2g5jzp2vxPqjzyPDpMXYlzXn3AvcBTs1ybD88pRjCytfOyf2BhJjgmHXQNHvBsVicPjK6cXb46+T09xKUyexxOSlCAquve5pSin35yx+/Z7SMyKobVDAJZNs0BRdodsSYD7/ZKDDRHcfRFuffkODcbuwB6PhuxLQ3lZxtT8J7Sw95PeLzzbbMQUvN08F1femaDkr67YsMUFdfJomwll97riyZoA3IrPpXSvLHNPO5fGiFiyE28S86Jqz0CEM6Pn6i1+qb5QFP87QisvxWUS7jk2i59iTS/lpQLNg4J9tc0ejQmh5/D04xehmiUG6jQotfVFGFsumJzUDyNeb0RAFFs2YF+Tk9Zvli4biPPURoz7guXKdv0YBp8LrwD2tdlvyW4ssBG+VGVLFTDLj3KNBsJv+TS0KibrY+028r3/YylDCdbZ1cbk+Am4FT5c69mmetWLecr87AbB7/QzJJrXxNiBJVm9k+WeiVcHJsLWcRP7us6F0l2H4dcbK3HNZp/cw/I5KgS9By3ApedxjMdPaOWyGhtcGvBf3/yY6jYaYfc/sn6wxrD29xB81lJHT7Y2G4nGHpe+cA27zrwGXNrUblgSFgCrYtzELMGVwEEYOP8EPyYaOs1Cgz1T8NztH56vql2q/rfyXJAftdh43yEdU9xvO4bXg1PDUwjZ+YQxU7YB7tmKS7TKcwEgxouzoR1Da8Al2k1Nv6uz3WFYrGRj2ixY09+1lZ0yf5oVKI1mg3zlc6MmT5xiOEzy29OY6eCK0PNPEJ+onOJWxtO91SUs3HBPDU/tbdLkWRKbo7TNI2acZ0nDHJVrjqU87EexdjLPo2JYkOLfVUOE1M2PKTzLwG2rO+44j8f+l4n4uet8HF3ZB09VQktSlyE2LrSz1PYLMXEpZtuyOUr9vAwozjNcW+2/TMXWqmFsnnmo5V20V+v79fXJeRg+bjWuPI5ho5O7imPU3quY2WS/2rJV32e6ZqmLDv0dNXxLYN9NPzTRIdmJRCKBmZkQTZ0csxFda7ij1JKHbAVQ1/eo0FsHRtfD8KdjdHpXaOvfnPh3PcXlZ7x9+hYfeZd+PHwvBcCS73xz/Fi6KPtnLFb1bIQpzL3st2Yuqlz2QJ/pkWgyLwpbBhcFtyTw+IIfuvc9DPNG5TF45gJU2jkQfULLYR3LmtOExaM0cDyOOqMD4De0Cp5vmw774I+Yum8vhlTfxxvwlVKd4L7UEy3fLMVQ+zUo7XUD2+21SUBhUj9VoAVmblyY6l5hIvLHm2p9sGKZK36IdGf1/gt92Qt3TktTLXYiJi4TtPBig0G6TJJ0fynjsgr1gp7oLC65jENlhp+GlediTOlakfFnl8pSlqbKa+uLDwOrw/kPE1hNWw8fi/dYOGwEdhSZLB144jy1DSxuknE5bY6uE1dgBou5CXcZgJl/NsPmv1fAkn0o8EHWn5IR9+8prJ4zC5uTR+HCQSeUYgVHhw3XaiNycSk5gqE1B+PpSN2+RvWp17kpLdBtDWC/aiVGlfgL3k7TsfOfxry47BK7Ff+r5YbbTaZga6Alnq2YDvd1J/HD0EOCuJQch0OdAYisNYn9vRu+7p/I7O8GBvATdxw/pib9VRPeWwPR8u06eEwMxfk87PcXZqC6lu8qbTZyP8gWrXyiMZjV27HiE76fdxWbjus7hyDf5Zmo12U5ivZfjhUuVXAvdCKcgs6jjfQDSFxcPoaflQX84myxepUryjwMYeN1Hcp5X+PnAl44LLmH2r+HYKlLKRxmNuB1q4P8hSLazxUjRXhx41XIiBXWZB2uLmitYo6C7V4s3gGTV85CR5MzmDhkAs5VmsW3Wb/kCtrKFubPT4jHg8j1mO0ZCnOX09gzuhyzAcETd13FC5cyngUP34rPbbGA1bulyZ/wGeuGK02W44SfJe5xYmnlMzTtuxALRqfmKTYmZeNtj1tbzEtywxl/W/7nMg+g2BylbR7psHe0xjkKfNjPHfh1H4DzbVdjm3N1pefKwoJS1V1ljlP78c3zZDF0TabhVRVLtPFwx4CX89B50j0W93cS7cOslOKWVcsQGxf62YjQGo3iUnQuMBU+vDXMywVitqjMM24YvfQKyvBhAlW1vIsE29X8fj2A/mWH4WaryVg83RZl83ETjykKFy+JAmYyu05tZfmK/izP8KZdXErw4fp6DOq9ECW8jmN5L12WxZWfKbzLt6D7wYuYUl/53a3Nu6/t79reazn973qKS/GBIXw1TID5rOtSwReLZd0bYF4hXzwI7cHfLPuirOAtiMKkKB80stqFvkcPodC0xpiV5K7w5SCBhHlThI8SwfjfOB2RplBMy3KK+L0ycdkg5JH0aycty1ti4lL4ctJlCUTGpU56xWXvRqhaVBZXppuZa+qLPkfPoey8mnB9MBCnT09BZTaPKA88ffpC8Ey63OolX35LfrYMFo3mod7au/C3EpjJXniJl+fDcuQbLGIiravJR96etNlIrulnMa/xX1g8ZTJC7zXWOY4m/fW6n0rMcF/f1T3Ai8vO7AVb2uEpFtzejf6FOY/gRbjU+Q1Xeu/nxWXC0XGoNOgFgh5shC3vhRfGzdam4czWH/OT+pcZUfKPqMiJTdH7hHXaxWUqG3nBBGAL7Gq1W+5BTTw7FTV7PYE/+9grO78T2oXWVPAgKNu6mLis9pzr01XodOQc3GsLkzxX7yGv3fm5gLvXMrg0/1HJpWJVHiPi/SzOi0uvKjY3CG34OPEcIpyZqGMX31deBbHjnxC00cFTonl06VJ2yov4whxbjItxx6ONfeRFanrBcf1Sq8dO9Nih8MHLPDYSNjly06M4T/EvEPlKgUrDVGMXNc1RYvPIuAdOKeJS7RyVlnlcPXnNokDoj7t2W4SPDMkO9Co/FvkDHsPlbkcRcSk+LgyROljTO0GbbXN9pWlerryXpTcWmWfE30Xa5vQUcRk0vQ8aVvtRcGak4RITl9zGGwtLL7aSmR8NBs5EoJcdqqY57bCEzTFt0etgS7Wrd9rEI98nLgnY+GgVrPSaB9IAJRv91KjiUt3kwxnUxDh33N45FPnk4nI7ejEBI3vpCHy1TTKqIk7b7xV7Tfxe2bJ4Sp2yhriUBTPPWHqC390pFsyszoZTtzvlV6oTgTpxmbL8nJa+EMSlR5KXwks1hffqdsf4Hb67XpmhcD4mNBPi8C6mOVbw4vKull3WqcM2fp35F3aP/EmnIWzIeim+PDrvGqGyc1yZl+qyo6yywstdWM5KYa0q9LU1TQh4V28jQj1CHkhDKqRFycJcyrJlS+Vd6bqLy6p/q99wYW4ZwPe76kSv/LIV72dxXswTrIPnUpFn/JahKDcuUS50tRHVJi41ld3goDusR2zCO/PCMOdN+z2+tPDTSVxq+0AV56ktbEhokTbPkri4VDenc6WK2Z/4vK/PsrjQIs3zuLjXXXxcdDWA8NAoLhV2kyvamUzoi83LlXepnlCRel7WVQhSQwAAIABJREFUPeYy9b2vTwZi7LRgnL79ARJTc1Sx9sL64P6oaCYsqauGy3H1Vwzz0mZf3O/jo//C6hH94fPCDn8wx4a2lRlFRq/YqlZztvJpu/46c1Kklr7axKW2v6d/XsgZdxpVXOruuVQ3EQnxcZNinBEVMVpNrGMWEZcKX8ey2EltLwbO9NLjuVQ02fjouzjmPRxDN5rCS00wc2YTl6k9l7NQJfghnO/ZwDKiDU4dmoTKzIvHe9J6PMACXlx+TYONxDDvX3NM/8cGey75oanWuFxNHlVd6iWIoT0t1suXYZU8l7y4fIlFYp7L/rfgeX0/hvCxjoqXYPdJXrLVAMEDqKvnUtxGXvGey3U1V+Cif/tUuytv+nZMk+eS3xAS0Y73qAqey0A03nwZvm21T/TKY0S8n3nvjkZeQou1xVwqxuXuGdkYI+8PxuWjrnzoRfov1TlKAnnZR7pgdZsOOGkTgX3uNXnWXD8OfOamk7gUVnjWw3LLlXTw/JbiMoWm+jlK84epXsviaRSXirZb3UTwXGoaF+m3j5Q7RT2XIratXVxqnme4p+sjLmW150IhbkfOw4DB61B80nm2AlBCGu6RmkzalsWF+xOveKG+zSEMYeELbtW1haVxd3zGhYV2sFv4NywDIjUup2sTjxRzqZ9lG0Rcyo6sqDZuDXzsKiFv3Ad8/akWKhX6KBpzyS11vr0ewmILD6Dzpl0YWaOQ0uGl78Id0cghHEU6T0bAJCGu482zd6jctC6LhdJNXL4KGwPrgO+wYI8f2smPFDCE51KCy769MOqcJdbvdFL4ojoBh8r9EVmXi5dj8XSBjhi29ibael1jX2Al+KUDzbxS4gtlMZfVZp6Dr01uKA7Kh0Hd0MTnLR/P51jnM56/K4+mdX9A0uMz2POoKBpWyM+e8gbnvJ0xOrwIgm6xMANZ29lGk9m2wxDVdQW2ja4jtx5tfWEIz6X6vpCKuHMF0W3UAozvU5CPt5t5tjJf7zrLO6H9jvo4cGIu2yl4D0smjUbIlgIY9+ca9CtVCP+lwUYE7stRw/sKW1LW7r3kl8XTWa8rXMzlprxwCl6MQRpiLh+18UHovGZqYi7ZMnnT37ANFvDkdkxWLIC4h6+Qr0VDlDFRjmP+JY0xl9ps5CVbEv7F/SIaDPWB9+jm7KPujdy+ZPyEmMt6iDkyBf08DqGFNOZS0S5HlTgDp77Tcb5AX+w65oNfC/0niPvrFTB8njdGNP0Jya+fI6ZSY9QpZKLFc2kC0blAIsZLMHFtu8W50Alfm/c4t8AdbpsfwHrpRfkRYNz9QqiGJ8oHpo6B1jwFC/OM+rKj+dCJAy224KhPMyTeXgWPkYux58fhuLjaXr67mat37fF30TM4GBN5Zv/B5JfqzA7usPs7I+h5lRSecY/wNm9zNCiXSytPXV4bmjxLshAVdXNUnvjnonO6NvvjQkC4mOKpj9sgeOl0NCpugrf/JeCX6uV1qTL/G3WiQRCmBzCWxTnnncH1dQHpvgChWHHbzQOxcSEXWemyEeFu/gOpXziae27G/K6F8Iit1LRsyNqsxbbF5uVqsULMpcZ5RvRdJHgfNa9GPUHkroco2bgC/057ddEXIx3DUHmusJ9Cl0uTfb0/uw0HEuuiFXuPJb++zIczrblvoXTGKlc+J/4GX+qhFA6UHHMczlb22PKyLMasCmF7MwrwVTExL4LSKmFitFtcl15K/28MIi75pQ62A9B15Wm8/MQdBlEYQ7ffxNzWpsLOVg27xVVje1IfDK68Q5RrZu6yI3HooifqmOgmLq8xb0unoNzwObcXg+VHERhCXMYyb0grOJ1rh+23FrGA+hRvALdDz3rEejxJyIvqfYaiypFl2PsmQWFJQDMvTfFOSrvGOYFo8xuWsF3biWw5onTfJfjTzxrcEQ4dvS9Jd+6Z4vvCldB5+gqlM76SYyIwsPFIRHVZjWss8F92aesLQ4hL9X0hiMtJScMwjcmpGUeVdwor7ozmdpH3XzIYjx1msiWX0hj3BxdKkai0i1jcRmLZs1rA+VwLbLsZgrZavJd61avq30q7xV2922Dr+DvwfM55XE1EdnFyy7jAl+eR8BkzXroTmP0P02qYeuwYxrIvd9Xd4gtHJ8NpdXmdYi6128hn3NzghhEz9/OhFdxVqOsy3FvZjf2b8m7x6n06o+DW3SjGYtZ4rzy3Q75nP8xnO/650wRGdTSF//ozKQeWf76LUGdHzDpwgz+/Dsxf13PlAwSzTVzal3HF5gJxXnwjWN2mtLHB2ly/YcM2H7T9WXY0zWEMrjAEEfGJfH0KVWuB0V7+cFE5U08WC87FHyuH74hNvuJlp+zkTUa+ij0QNCgOQ2dEKCdIkDzA+jEO8JQxM22I+Vf3sg+WXMwOFHeLCzxtAq9jTZ9COvDU/tLQ9PIXm6Os9tTiD6GWXapzunb7Y36n+9swyn46jnDLraygvI098ee+kfhRe5X5X6gTDapL6qkOLNdmuyZi40KoWPpsRNaoaGxx6Izx4Y9Zm83wQ/NxOLzLGeXYa0VsLhCfl5V3i6s7lULzu1vY8a1JXKbERArniuZmoR1VLadgNb8srp9n/GZgT9jOPy2fIwpVs4T3qmD0riIcti5cwsrmtFyzlDz9mk5ZkIXfKJqQRnHJztmc91t/OudSx/Gm6WcGEpd61oJuz9EEdIm9MTwg9XFU3HM0xTMZvg6GL1FT/KFxsn+kJRbZ8G1Na4mKGXry1p6IY0fd+M1puly6hLLoUk5m+E3G2khmaHHG1CHT24j0tIyXTmflm9cyhoz6p/AfKenO0JO2uH5ZDbRl6NntUBsO4W8pQ48BDIPEpQEgUhH6Efg24lKaY5pzWKlcsiNXvk299GMpOyYmdSmy48H0K1/57qwlLoW6c/3+EFG3P6Feu3o6HzXExZu2Zyk2ZaclGJJiRpeVsTaS0a37ds/LfDaSMsclv/4bW4Omwu9QPsw4ww4UV0ok8G2Y6ZdbnNut7oDvA/5NdX6lWGu05Rb/99RhxFRogGql0777/dtQzLxPJXGZefsmx9Qss4q4zFqvzGMYWVFcpo/e++sROPi+BuxaV0hfAXRXtieQ+WxEYXWGJaAoVqE1pi4Lgl0N7pyWrH49wYlN11DUxoaP2aYr8xEgcZn5+oRqRASIABEgAkSACBCBLEuAxGWW7TqqOBEgAkSACBABIkAEMh8BEpeZr0+oRkSACBABIkAEiAARyLIESFxm2a7LqhWXBpmjgNKZplm1NZm93rLNG4rnpGoLas/sbaL6fVsC3FmVm089lFciV5lfFWJRhfH90Sz1uYLfttb09JxIQDjfNFma81wgQPOf4SxBbC4gcamGs1gaxLR3S/qOTEj7czL/HYpHwaQ+0zSl/toyJ2T+lmaGGnJnUvaD3dxT+MB2xCuekyrYtz+iC/3Apx3MVX4odu/T/ViezNA6qsO3I5AQMRF1J0TwFfgS+xYJrYUUnsKVsokkT9leWBURAKtUWabSV3fDzstpq0NGbO6LCvkdQ3fVwpq9k1FHhwxiaWtBTvt1NPa4dIfj5rvsfIiy0jORhew+NP8ZzhbE5oIsLC5V8kZzh4k3HQK/xe4KBySnD6JhJzFVcSkcoD52WSTeSJJhVqAqukwPwaKBtfhMB9n2YocUz2hvi1VJ/8OaTbPRodz3GpuaVnGZ1t+nhbExy05LPdL6W1le3caeYVhpXw8FuPyC0iv99h2NSxuXY8GSVTj5z3+ozOc6Fw59N/b15XkEpg6eju03niI+0RT5K3bE3HWqBysboxZCLuzJi//Av/EJMGUH+f/PO1QpMYExniqUye2IPYncLezQkmXdyQiBIzyXpc9bOhLjFh4XDtI3K4bWDgFYNs0iVRpejVl8HofDrftY7MvrkOac0Jp4pt9uZSWm/0M/I9gfGd8YA3fXxMrLobCRZ5MznnVpLzn9vLSXbcxfsOx53l3QdUkcBq/agOmdhSxChpj/vtVcwCUWGO/og93XXvCH7Jf8dRgWL5+GVsWMu1M++e1VrF+6CEtWHWPzXyklka7ag6pjRG9x+Wj3EhwqYoMBrcurEUd/YvXsB2g6titqFZRlxEipUvKzfQjcWxA9BrVCGfPUkM6v9cHLBqNgXadwqjzHkKZ/FFKr5Ubcvwfg7TwLh3Pb65SpRMy09Z/EFEtXHqDKab5y41zwLHidqYfNh6dn669Vzen3UvdEWgVdWn+flmnNmGWnpR5p++1VTPjFFnsbByNqeddUYyf99r0Hg6stRKxVLUiOhSOGpW3NGHEZj92OrTDpgSXmzBmDhjiNiUMm4FylWbi+c4jOZ1WmjaHw69j9Tqg/8jw6TF6IcV1/wr3AUbBfmwzPK+ysQHnGr/SUrP2epLuL8GvrlbDYEYU5LU0zTFzy2Vc6LkfliQGYyLV5hSsclz7B4L1XMbOJcm5nMdEl2FkImq26gcU2mj8mtZMQfpF+u80a4lJXDhn3u6wpLpNjhLSXn1xO4vD4yqlwpdeOvt1ccA9zLayx7vse8Pbi5r9DfGrdO+1X4XZIZ6OaQ8LOMajh/xSdauXCkV1PMUQkQ5nBxaUsnZdJ8TroOXoa3JSE4mEMrzwM4fGmqNxmCCZOHqskFOUppJJ/RIPuozBt/GC0KJsyCe12rItRYdEwr9gK9hMmY2yXugoemNRn7CWenYpaPc7B5fIRNvHv49NXHU9IYt7B0mg2yFf5y1sprZop8pVsAgf/pZjE0r6lNj6WOq6JNSJab8DVBa1ZZ3Iu975wDbvOUlRxKeO6YUlYyvJPSlq3XFBNucUdtNvWryhWvxDSAKa+xMpWTr/X0GkWGuyZgudu//Dp91SFkOp/K6fizI9a3RdhB0sZyWWClbW5nUtjRCzZiTeJeVG1ZyDCpX/nDp++s9kV9tP38d4MU/Of0MLeT85UrGyujTuG1oBLtBtuhQ9PJQZU0xkOa38PwWct5R8J8nRz7Ky2co0Gwk/6xaYp1Zfikrs87RvzbBep3A5e8jRi4hl6In87xF6MfnicLKQ3k12KZX+OCkHvQQtw6XkcwHi0clmNDS4NeDHHPbdjeD04NTyFkJ3KKS25soQUdyyN5b1o5okTSreYd4fl5S3E/7ty2YrespR6Vx+9CY5PPfiUcSbFrRF0bCX+x5YgVUWJqo2ld3JNKefbv3QiJzZFvzvD1NqToWdbiYT5CswE129yDBu3NdxRasnDNB3enJ46JexxRGmHp1hwezf6F85Iz6VybYU2z0HdbYLIVbzEPXov4GfVAuvrhkrnzfRQSLlH3RxVxdoL66UpB1Pmg1ypUt+qpn+UlSrLxsX99+uT8zDMeTk/nhPZXFOz4wx5OkOunZOT+sH1Yxh8pOlNJ63fDMf6uqw3CatVE0LP4elHIaUqSgzEoWvz8At7Byim01TNpKVpjksJcxF/F2meZ15iRnMrhDyQ1kehazgmi3O5okPgzVQdpshLbP6T8RrxeiMCWJpiLh2sIi/x+U94zw3xO8XSSSerrFJon/9Ux40h579vNReAzUESNgfJFqC4+a/PGdsMS+qgyzvD4OKS6zhJ7C0mQuYiYG0k7n4uyAvFWR72aFyK81Z+xsPT67HAayn23XiJXOU4oTgdbj1qCp5OyUdc278EPv6hOH07HkXqdoPTLA8MavYzDzLu8VmELpyNZeFReIMyaG8/DtPH/4aq5ntVcp8C8QecUWPIv/DmJ2MJ3j59i0+Ix4PI9ZjtGQpzl9PYM7ocK1XIMe1yrhScg/zRv+I7bJkyAis/j0HE3pGo+Df3xb0dvaQqPenhYrRp7od6K4Uv8PtBtmjlE81c7ivhWPEJFg4bgV3FpvNelALSr6bbTaZga6Alnq2YDvd1J/HD0EO8lyeJ5SFv0WEhYn5xQMCS8amWh8XKznd5Jup1WY6i/ZdjhUsV3AudCKeg82iz+KkO4vIxm+gt4Bdni9WrXFHmYQiG2q9DOe9rTNAUlcehvKnWByuWueKHSHf0mf4X+jIBzb1QosOGo4HjcdQZHQC/oVXwfNt02Ad/xNR9ezGk+lPRsoF7mN26A8KarFPzkonFqp6NMOmvmvDeGoiWb9fBY2IozucZIBeXcdHP8I5NMnH/nsLqObOwOXkULhx0QilmOy9ex+B60O8YcLQRtu12Q0VOr5umbBYSAroTIMtQsfB0Y+y4G8RywX/lNx7EasrQk1ciXrbkOBzqsDrWmsT6uRu+7p/IeN3AAKl3h3+ZLbmH2r+HYKlLKRx2GQCvWx2w76Yfmpjc53msMeuBBb6uaFRc+MhI2XQjeB53Fh2EkMUD8HW1I4atfQMHvuxEvt4bnNti7rPSaN98AiYNf4ep1u6IHn4ExzxqwZiTqzBRf0txyeaTQ16wG3kGPXcdxDidXu76iRrFu4VJdgu6H7yIKfWVhZbhniKUdNmzLWz2tsQfl2ejNjORjFiaVW0DN7cvH2qHpfknIzK0j87L4rJyDFlnmSc0tv7/sNifzWGP1sJxVDD+6xOGSz7N+XcJNx8ksDfFjW3B8Fh4AlYbbmN+O1P2juLmgTvw6z4A59uuxjbn6nwVZdm4ZHF46DQHK2e3R8JFPzi5HEObtScxt11Bnr3LuYL43/hgTG33np/zdxSZrNPHDTceyww/DSvPxZjStaLw3lOYo2Tz299sHuu3trSy40HeJu6mr/hz/u8Yvr8Clp/bwH9Iir0vCkrnXfXzjPj8VwTvRXlBy/zHC+Y/TGA1bT18LFR5Ce8DTfNfIv+eW8s+rIJY+Ml3CGGsN8X0kopxod5i8x/nwGkXWlM616Z24OgilHQZyxk5FyjXR8LssS7cJVNwf+sANau6utQ+bb/RhZlRxKW8mpJ3iPQdgAFBV1BOTTzWf3eYt6avGw6+aK3GcyfBmzP+6NXfH38XG5F6afvTPawfPQDj9j+Ubk6I4MWl6rL48SKuOHvEFWV5m/osFZjAhTm2GBfjzgeeC1/iE2A+6zq223N+O3YpfBnIjKbjpl0Y8N0hfrn9mPkIaeyQ8DW+q9Vu+ZIg5zGt2esJ/J+GosPe0UreBuAiXOr8hiu998t/z38hjwnB+Vdf8WPjEQheJosTFS+77PxOKoNG2Xsr5rms9nwZLBqtQqcj5+BeW3gpcl8/Q16740FoD7m4bBDySOqRUSw7Hsu6N8CsJHeFyZR9STGvLefQSX4mXra4GOHSeA3DlxlR8r7g6tX7hLWSDcgm4MTL82E58g0WKXh+tS1dywXmh50Y0mEDrBQYaBtimsrmwxsGvUDQg42w5YPvY3lGW5uG8wKPu88yuDTWMZvozLwTynmHFcXlOFjW/lkpJlLwwO9Ejx2CsJfZUFS/g3zZ3MVP3lespRPoV6yzq41puWbx9q0tx7EuE4U4l28jLhMiXFF52GZ8+q44OjkvxdwxzVHSzLgxR6qTeuTEtuh1sKXc66TNftL/dwnfp5555vLjU9bnHkleCptn0l+69jvvYWEHa8yL+ojCdfphTpAXeqrJ7KJNPHLjoNNhK5w/4Y5yenaVTFy2XHcX/lZsJ5p0DrP7sy8uH3VFKX4elwnMWGy0t8H+luEKoRua7Zabc3rt+1VJkCh6qbh2uj4YKPcUaZtzFPkqicvejVC1qPoQAX7OCCqhcVWLj6N2uoUREUfhzn9Uib8vOit9xKaeZ7TbgGZe2uY/cV6K4jJ1vVT7QpgP2cf8iZNwqy68u8TmP219o//8xxsae39m1Fyg3FPJbzega30P5J8tOIYy4tKFmVHEpcy7GLzzKt6Zlue9i5OcpXGWUs/knPkr2SYACYoxz+SYaeNSYjQ/PUHkOn/MWhKGqLcmKsvnEny4cQD+cxYg9MQ9JBZVXHoXPJfcsjd/STf0BEiXTLmlaesRm/DOvDC/IzYh7j2+tPDjJ2ZtoFIvRRTE4K1/w7ctZ9jql1Nlyxmdd41AScf/FCYITQNUgqcX1mGa0xzsf2eFbTdD0DbPXbVLFbKyy86xhBXLbxx5YQaq8xO17uKyKu+NTb3Ma24p7PRMzUSx7H/4eh2z3qs2xk7T0o2sbHHPZerwBsXJoVr0YYyxGYldr8xQOB/fkXgX0xwrdBGXbBORX89+mH81Hj/wMb9fEPP/9s48vqZri+O/K4l5+JhV1SdKPVUzeaZPGxpTkpJXs/KMT5CEeGalEdq8iDm0QQxRUUJriCEhvKD4GGuIeagSHx4tWoqKTG/vM+Tec+89Q4abfMi6f5Gzzz57f/c+a6+99lrrPCyPMf/lCvYNzWMh2ZdQVbnc4ovqo7bbvNfysZH1fdYKn+igHcas+XfZsbjSQZuXrT7qrIXztDiH4tw34OTsNrqKxpttuWSpbm4exIxBvthTez6OM8WrbH5IV/YMOUiqW/R5ptwYOQ7NTcPETenxLlFZVrbt49ohLGMcTqwehmp2fNhz8zS1e3kqq1NrA9Bn5m0EJLDFXdqYyuX1lEu969lpsz25za27n+ztyJS+iXiyhGdHOI6M8mUFaw6PZK/uaxl0pq4s6bXT+rqeAqPslxgUNmPZAcmlyH5QmJZy+TJpLtp5RqL+osNY3auqVL32WsTdrtTljP21hldsPvrWUC515J8eLy35J1iJr36Wtc6J4x4Nr9gzmNXSrFyqbbTyw3KZv7LAYjbJgbHFRlsY0bLzFuWsrJ7OJCv8lmOS64Cei/O90GHOORW/yAQMrjUEcWkV7PpUZrDjyY/a/wc/u1gppFL/t/k2gG/sU1SzVkiF61rfNRZ3Rj96x2Hn5PqCoOG7oYF3x4m7/lc/oJfrGKQGnca2kdVsaCtA1v0JY1v2wJaaQTjD/AUrSrvFtfVX4MQiDxuTtKhE3MdCyU/KnuXS8oEZSaFo0Wkr+ghH8L8KVlG1um1fGm3lUjhWi2svvKSi5XIx3DacYkqy7cKorVxmCFaUqU8CkRTnb3M0Jlou1evm/VX3uRT7kDHLbEW2tFymz+2MDnHuOLRnKuowC6FgJe5+E/MMKJeCkjX2BaIuRMGzpEmyWIfjwwTOWjxeVj0WlxZvTcvlgEsIPr8LQ+ykWtFTLrPmANt83buwHr69ZuJGJ9FB26jlUk24Fgafy6ffDUTtSaYsy3DORKbRu1j09Px+6Df/MjqEH0Rk1uJu9P7slxPfqWBczFD6/CoX/+zXm7M7zmBSMx+c6h2fZTk3plw6xudSdlcCkhHm4Y6ouhHsvQE7AQlAqcVnsfwfZVjzxJOEdc22GLJcclnptakRtp4JR1s7aYD0lCWjXF88uobEkOEY+p0TZlkFhakpl5kPY9GvTQAe/HMb9nzR3GLNEfmqrReKNtnIGQ8D8k/Hcqkh/wzzsiP/jFou1eSfYzfX+S8L5HHkGTPGdB2F+NK+2JWQv+mqCkS5TN73LU5X9VGJ6D6NTcufofVA+9HgmXcTEXW8EnopAnXMr8SxzZFIdxugCPIxX9VXLuPbxmBfaCukX1mFKSO/xvZKw6VdfwpTdj6E324Tun2xmEVEcj+Y33DvsStaNipvY8Xjkc4NJiRhyObj7JiyBO6v+QxNJ59As6GhCPFvzZQt871ypNpt91CsCWtl43N5bN4gxJh8WJ/dULPUQxwNG48xm8ti0aWt6MvST2jVLfqiyD6XjfFk7zT0n7IHbSWfy1tLfPD30IcYxnxBR1U9IkSUHSvTF1sTQ9Gm3DMmbFsj6HwtDA8LwYiW1Zgf4j08qe2GhuVMOpZLZzyO9UML31hU8Pwc4VO7sbab8Nvdx6jTshGzHD3SrJuPmXq0uOhzOe1aCyyImo2mVj6XXLn0+KEJ4g+wa6br+GaqP5bGlMH401HoX72cIGjF8bmGnhERmCT06xlMTevhrR3M1ynwIRYeXou+lf9AwszxmLL1Kjy/ZmltPq5iKPWTWt3vpDLLEtt0bMLHCA6fAs93y+D5rQco1bY53mFWZW3l8k+c2XkUpiYfCIr681++x4TBc/Ggt+Q7Bg2fyyYvBL+yLZIV68iibha+mvLb4aBo8awjx58Vvmuy35r8dD4P3UJKaQStGV2KzeXO716B/1XpgveZf6qcGeJAlYmi761UTFbIXBffEXyQ8+KX+WQ/AjsNQ8z9mghYtZT5F3PFBTCVUCYJj/dvjMEnu+c6U4VWm+1Z1xzT5+OI2ZGC5u1EuXg0YgamrLqEHjFXBf9Fy19Oo8VzMkcs3ZVGvH0HMUF+WHioNCYKFtUEQbks8tVBrBxYBb/uD8HYCZtxl+Vz3TXLAxWEbCSirJme7I6IZUGCr/PDZ2loWs9V8oWfg0cNByKMZSTg1yzfZ8PKkp0B5Immt9+uiOa1SrOrjGdIIPxjK2CJIPNTsly3RJ/LSphzMhwdTCVRqUZFlJAsVdFlA7B1eW9UkOqX/bO11gveX205o/eGqPPCK235p81Lu12aPpepz3Tln6OixQtSFiQt7Y2eX/6I0h1DERncEVVd+Ng5KZPDSxvSvJR/sktZxo1l+JRlB/FkroIj67oonqu20cy15VJvejruupZyyY6w2LF4N7/1LDdTJkq92x1LBj3H0BlxyIr2Tb2J6ABfBMdfYBHf4kDV9Y/F4aAWdhQtcQe3qtRYyRT9EhfXjcOImbvEPHDsV67rclxf6SP82zJa/O2uczEsZTo21t0s7KCPzveB/9KzUtQgj1Kvj/4h6/CVt3zUoVW3Mlq8Xh9PlN24DZXDk8XFVD4GlqIZR3V2wqLoI+Y+v7yGNYF++DKrz0XRc+VNRHR11lUuraPFeT+da47EnhPBaMjl9l/qdQtQWNumuXvj2yI9sG5TqCIXqXW0+Hz/TIxe7SpaXNmx+Ggff2y+8SeLyK6FAd8MRrIvi7JOq2E+NlZE/vOhbM6OwndgUPlLWNBvEBYcvssi7Sqj3fjJeG/jNKxgEZKWScU156ha3VWLIOXeQYQGTMCaY3fEiG+nv2F6YiLGML8gbeVyr5hFQZx4LI+gMgqe/0ktWtxZOCJSujfY68v9DUPQcuwhtAqOxZpRyhx/w+tvAAAEKklEQVSqRnah9piouT9YRpDy+ywt5qL7Ru5/sYHNEfg9dyHgnMWctrILjFy78hQgb4Jt9F0+hMmt8HnNfW/t12BPkXNIn1kqIi/v2TgtyTaei7frzBV2c3uqKZeylUUtz2VO5oh80nUtjVlz2Ryo/sEn+DxiLnq/V1wYAx5hPHDuAZY/2IXlAfw3JjZiuTaXXYHZPUfO0hCEvVf+YHcAxd2CcXrnSFRi/1ZEi7P/ZxZrj8hL6/FpaTGi29JSlp1jcTmjivi2O1lFslvla5aGXnaF8r48z647k/md11ovpGwtGnJGb66KUd32eWnJP21eeu1Sjxa39z7ayj+W5zK4C7wiU/Cv6I0I9qihOGHMa/lnOb8cJQssMwqYx8wqObziFDRv5J/9LAvK58rtcYjPpd4EpeuOIqCtYDvqqTmt1/ILPcUbTELiPvoqTE5Z6t9n8YUeZn/qu/w6FrNNBP/JkbGO+kKPnv+afttzVkIvkClntRq5q2ACnHjLCqLP2l/o4Tn5OmPBxRfQ+kJPQc0RI6OZ3TJqaY60vkKW3WdQ+ewSsPhCT9H6CN67F35SMJBj5R/JAvlrXa+x5TK7k+1NLP96KZfiCPBvD99C0pW/0Lh943wLxngTR99In3hAxp3LPyG5oofwlRf+c+y3dUV/50SvXTb+eUbam5sy3CfZgwW8HT48DXXyyGJqrD0844EvSob/4vDcl9btKYg+a39b/CnO7k9CyXoN4fqW6LZi+yu4OWJsPLNXSj46tLnLIt1Q9mqk0nlFgI/NzXNXkNrIXXD/crz8I1nQ76NaAmdSLvNqFhdIPa+jclkgoOih+UaA+1PtxPOGfbOU2fx69O/n47D79/chC7f8eq74mcZzqOjtnbWA5dezC67Puelhwc2R3LSa7iUC+gRIFsiMSLnUny1UgggQASJABIgAESACRMAgAVIuDYKiYkSACBABIkAEiAARIAL6BEi51GdEJYgAESACRIAIEAEiQAQMEiDl0iAoKkYEiAARIAJEgAgQASKgT4CUS31GVIIIEAEiQASIABEgAkTAIAFSLg2ComJEgAgQASJABIgAESAC+gRIudRnRCWIABEgAkSACBABIkAEDBIg5dIgKCpGBIgAESACRIAIEAEioE/AkHKZkpKCjIwM/dqoBBEgAkSACBABIkAEiEChJVCkSBEUK1bMbv9NmewnX0lLS0NqamqhBUUdJwJEgAgQASJABIgAEdAn4OLiAmdnZ33lkpcg66U+UCpBBIgAESACRIAIEIHCSkDLasmZKCyX/A/ckPnq1Ss6Hi+sM4b6TQSIABEgAkSACBABFQJcsSxatChMJpMqIxvlUi7Jj8jT09NJyaTpRQSIABEgAkSACBCBQk6AK5VOTk6qR+GWeFSVy0LOkLpPBIgAESACRIAIEAEikAMC/wf6p45c5sbNKwAAAABJRU5ErkJggg==)"
      ]
    },
    {
      "cell_type": "code",
      "execution_count": null,
      "metadata": {
        "id": "xcIDsmu0kdKR"
      },
      "outputs": [],
      "source": [
        "class BiLSTMModel(torch.nn.Module):\n",
        "\n",
        "    def __init__(\n",
        "        self,\n",
        "        vocabulary_length: int,\n",
        "        hidden_dim: int,\n",
        "        bilstm_layers: int,\n",
        "        bilstm_dropout: float,\n",
        "        num_classes: int,\n",
        "        padding_id: int,\n",
        "        device: str = \"cuda\",\n",
        "    ) -> None:\n",
        "        super().__init__()\n",
        "\n",
        "        # Prepare the device\n",
        "        self.device = torch.device(device)\n",
        "\n",
        "        # Embedding layer\n",
        "        self.embedding = nn.Embedding(\n",
        "            num_embeddings=vocabulary_length,\n",
        "            embedding_dim=hidden_dim,\n",
        "            padding_idx=padding_id, # avoid updating the gradient of padding entries\n",
        "            device=self.device\n",
        "        )\n",
        "\n",
        "        # Feel free to modify and change any hyperparameters or architectural details\n",
        "\n",
        "        # BiLSTM\n",
        "        self.bilstm = nn.LSTM(\n",
        "            input_size=hidden_dim,\n",
        "            hidden_size=hidden_dim,\n",
        "            num_layers=bilstm_layers,\n",
        "            batch_first=True,\n",
        "            dropout=bilstm_dropout,\n",
        "            bidirectional=True,\n",
        "            device=self.device\n",
        "        )\n",
        "\n",
        "        # Projection layer\n",
        "        self.projection = nn.Linear(\n",
        "            in_features=hidden_dim * 2,\n",
        "            out_features=num_classes,\n",
        "            device=device\n",
        "        )\n",
        "\n",
        "    def forward(self, batch: tuple[torch.Tensor, torch.Tensor]) -> torch.Tensor:\n",
        "        # Get the different parts of the batch\n",
        "        sequence_lengths, input_ids = batch\n",
        "\n",
        "        # First we embed the input tokens\n",
        "        embeds = self.embedding(input_ids) # [B, S, H]\n",
        "        # where B is the batch size, S is the sequence length and H is the hidden dimension\n",
        "\n",
        "        # Pack the sequence to avoid gradient descent on padding tokens.\n",
        "        # An alternative to packing sequences is using masking.\n",
        "        packed = pack_padded_sequence(embeds, sequence_lengths, batch_first=True, enforce_sorted=False)\n",
        "\n",
        "        # Then we pass it to the BiLSTM\n",
        "        # The first output of the BiLSTM tuple, packed_output, is of size B x S x 2H,\n",
        "        # where B is the batch size, S is the sequence length and H is the hidden dimension\n",
        "        # hidden_state is of size [2 * num_layers, B, H], where the 2 is because we are using BiLSTMs instead of LSTMs.\n",
        "        # cell_state has size [2 * num_layers, B, C] where C is the cell dimension of the internal LSTMCell.\n",
        "        packed_output, (hidden_state, cell_state) = self.bilstm(packed)\n",
        "\n",
        "        # We take the last two hidden representations of the BiLSTM (the second-to-last layer's output is forward; last\n",
        "        # layer's is backward) by concatenating forward and backward over dimension 1.\n",
        "        # Both tensors have shapes of [B, H], so concatenating them along the second dimension (dim 1) results in a new\n",
        "        # tensor of shape [B, 2 * H]\n",
        "        hidden = torch.cat((hidden_state[-2,:,:], hidden_state[-1,:,:]), dim = 1)\n",
        "\n",
        "        # Finally we project to the two final classes and return the logits of each class\n",
        "        logits = self.projection(hidden) # [B, 2]\n",
        "        return logits"
      ]
    },
    {
      "cell_type": "markdown",
      "metadata": {
        "id": "pqL-T5pdrICJ"
      },
      "source": [
        "# Trainer\n",
        "\n",
        "As in [Notebook #4](https://https://colab.research.google.com/drive/1Z4ogGO58owxu0e9-hbUtjJYqud3OuJ1H), we construct a `Trainer` utility class to help us with training our model.\n",
        "It defines the following main ingredients for model training:\n",
        "\n",
        "*   A **training loop** that iterates over a set of training examples that are used by the model to learn to solve our task.\n",
        "*   An **evaluation function** to evaluate the learning progress of our model.\n",
        "*   A **prediction function** to actually obtain the output of the model.\n",
        "\n",
        "In order to correctly learn, our model needs a *loss function* to determine how far the output of our model is from what it should have been, and an *optimizer* to \"correct\" the model internal weights based on the value of the loss function. We pre-determine the loss function directly in this class to use the standard `torch.nn.CrossEntropyLoss` function.\n",
        "\n"
      ]
    },
    {
      "cell_type": "code",
      "execution_count": null,
      "metadata": {
        "id": "RucUuq4HrlJT"
      },
      "outputs": [],
      "source": [
        "class Trainer():\n",
        "    \"\"\"Utility class to train and evaluate a model.\"\"\"\n",
        "\n",
        "    def __init__(\n",
        "        self,\n",
        "        model: nn.Module,\n",
        "        optimizer: torch.optim.Optimizer,\n",
        "        log_steps: int = 1_000,\n",
        "        log_level: int = 2\n",
        "    ):\n",
        "        self.model = model\n",
        "        self.optimizer = optimizer\n",
        "        self.loss_function = nn.CrossEntropyLoss() # this is the default loss used nearly everywhere in NLP\n",
        "\n",
        "        self.log_steps = log_steps\n",
        "        self.log_level = log_level\n",
        "\n",
        "    def train(\n",
        "        self,\n",
        "        train_dataloader: DataLoader,\n",
        "        valid_dataloader: DataLoader,\n",
        "        epochs: int = 1\n",
        "    ) -> dict[str, list[float]]:\n",
        "        \"\"\"\n",
        "        Args:\n",
        "            train_dataloader: a DataLoader instance containing the training instances.\n",
        "            valid_dataloader: a DataLoader instance used to evaluate learning progress.\n",
        "            epochs: the number of times to iterate over train_dataset.\n",
        "\n",
        "        Returns:\n",
        "            avg_train_loss: the average training loss on train_dataset over epochs.\n",
        "        \"\"\"\n",
        "        assert epochs >= 1 and isinstance(epochs, int)\n",
        "        if self.log_level > 0:\n",
        "            print('Training ...')\n",
        "        train_loss = 0.0\n",
        "\n",
        "        losses = {\n",
        "            \"train_losses\": [],\n",
        "            \"valid_losses\": [],\n",
        "            \"valid_acc\": [],\n",
        "        }\n",
        "\n",
        "        for epoch in range(1, epochs + 1):\n",
        "            if self.log_level > 0:\n",
        "                print(' Epoch {:2d}'.format(epoch))\n",
        "\n",
        "            epoch_loss = 0.0\n",
        "            self.model.train()\n",
        "\n",
        "            # for each batch\n",
        "            for step, (sequence_lengths, inputs, labels) in enumerate(train_dataloader):\n",
        "                self.optimizer.zero_grad()\n",
        "\n",
        "                # We get the predicted logits from the model, with no need to perform any flattening\n",
        "                # as both predictions and labels refer to the whole sentence.\n",
        "                predictions = self.model((sequence_lengths, inputs))\n",
        "\n",
        "                # The CrossEntropyLoss expects the predictions to be logits, i.e. non-softmaxed scores across\n",
        "                # the number of classes, and the labels to be a simple tensor of labels.\n",
        "                # Specifically, predictions needs to be of shape [B, C], where B is the batch size and C is the number of\n",
        "                # classes, while labels must be of shape [B] where each element l_i should 0 <= l_i < C.\n",
        "                # See https://pytorch.org/docs/stable/generated/torch.nn.CrossEntropyLoss.html for more information.\n",
        "                sample_loss = self.loss_function(predictions, labels)\n",
        "                sample_loss.backward()\n",
        "                self.optimizer.step()\n",
        "\n",
        "                epoch_loss += sample_loss.cpu().tolist()\n",
        "\n",
        "                if self.log_level > 1 and (step % self.log_steps) == (self.log_steps - 1):\n",
        "                    print('\\t[E: {:2d} @ step {}] current avg loss = {:0.4f}'.format(epoch, step, epoch_loss / (step + 1)))\n",
        "\n",
        "            avg_epoch_loss = epoch_loss / len(train_dataloader)\n",
        "\n",
        "            if self.log_level > 0:\n",
        "                print('\\t[E: {:2d}] train loss = {:0.4f}'.format(epoch, avg_epoch_loss))\n",
        "\n",
        "            valid_loss, valid_acc = self.evaluate(valid_dataloader)\n",
        "\n",
        "            losses[\"train_losses\"].append(avg_epoch_loss)\n",
        "            losses[\"valid_losses\"].append(valid_loss)\n",
        "            losses[\"valid_acc\"].append(valid_acc)\n",
        "\n",
        "            if self.log_level > 0:\n",
        "                print('  [E: {:2d}] valid loss = {:0.4f}, valid acc = {:0.4f}'.format(epoch, valid_loss, valid_acc))\n",
        "\n",
        "        if self.log_level > 0:\n",
        "            print('... Done!')\n",
        "\n",
        "        return losses\n",
        "\n",
        "\n",
        "    def _compute_acc(self, logits: torch.Tensor, labels: torch.Tensor) -> float:\n",
        "        # logits [B, 2] are the logits outputted by the BiLSTM model's forward()\n",
        "        # We take the argmax along the second dimension (dim=1), so we get a tensor of shape [B]\n",
        "        # where each element is 0 if the 0-class had higher logit, 1 otherwise.\n",
        "        predictions = torch.argmax(logits, dim=1)\n",
        "        # We can then directly compare each prediction with the labels, as they are both tensors with shape [B].\n",
        "        # The average of the boolean equality checks between the two is the accuracy of these predictions.\n",
        "        # For example, if:\n",
        "        #   predictions = [1, 0, 0, 1, 1]\n",
        "        #   labels = [1, 0, 1, 1, 1]\n",
        "        # The comparison is:\n",
        "        #   (predictions == labels) => [1, 1, 0, 1, 1]\n",
        "        # which averaged gives an accuracy of 4/5, i.e. 0.80.\n",
        "        return torch.mean((predictions == labels).float()).tolist() # type: ignore\n",
        "\n",
        "    def evaluate(self, valid_dataloader: DataLoader) -> tuple[float, float]:\n",
        "        \"\"\"\n",
        "        Args:\n",
        "            valid_dataloader: the DataLoader to use to evaluate the model.\n",
        "\n",
        "        Returns:\n",
        "            avg_valid_loss: the average validation loss over valid_dataloader.\n",
        "        \"\"\"\n",
        "        valid_loss = 0.0\n",
        "        valid_acc = 0.0\n",
        "        # When running in inference mode, it is required to have model.eval() AND .no_grad()\n",
        "        # Among other things, these set dropout to 0 and turn off gradient computation.\n",
        "        self.model.eval()\n",
        "        with torch.no_grad():\n",
        "            for batch in valid_dataloader:\n",
        "                sequence_lengths, inputs, labels = batch\n",
        "\n",
        "                logits = self.model((sequence_lengths, inputs))\n",
        "\n",
        "                # Same considerations as the training step apply here\n",
        "                sample_loss = self.loss_function(logits, labels)\n",
        "                valid_loss += sample_loss.tolist()\n",
        "\n",
        "                sample_acc = self._compute_acc(logits, labels)\n",
        "                valid_acc += sample_acc\n",
        "\n",
        "        return valid_loss / len(valid_dataloader), valid_acc / len(valid_dataloader),\n",
        "\n",
        "    def predict(self, batch: tuple[torch.Tensor, torch.Tensor]) -> tuple[torch.Tensor, torch.Tensor]:\n",
        "        \"\"\"\n",
        "        Args:\n",
        "            x: a tensor of indices\n",
        "        Returns:\n",
        "            A tuple composed of:\n",
        "            - the logits of each class, 0 and 1\n",
        "            - the prediction for each sample in the batch\n",
        "              0 if the sentiment of the sentence is negative, 1 if it is positive.\n",
        "        \"\"\"\n",
        "        self.model.eval()\n",
        "        with torch.no_grad():\n",
        "            sequence_lengths, inputs = batch\n",
        "            logits = self.model(sequence_lengths, inputs) # [B, 2]\n",
        "            predictions = torch.argmax(logits, -1) # [B, 1] computed on the last dimension of the logits tensor\n",
        "            return logits, predictions"
      ]
    },
    {
      "cell_type": "markdown",
      "metadata": {
        "id": "kiVR0bspztMA"
      },
      "source": [
        "We just need to define our datasets..."
      ]
    },
    {
      "cell_type": "code",
      "execution_count": null,
      "metadata": {
        "colab": {
          "base_uri": "https://localhost:8080/"
        },
        "id": "gR0FlMs7hQBd",
        "outputId": "5f812812-e364-4383-85fc-1b58db6e7725"
      },
      "outputs": [
        {
          "name": "stdout",
          "output_type": "stream",
          "text": [
            "Training len: 60614\n",
            "Validation len: 6735\n",
            "Test len: 872\n"
          ]
        }
      ],
      "source": [
        "pad_token, unk_token = \"<pad>\", \"<unk>\"\n",
        "device = \"cuda\"\n",
        "\n",
        "train_dataset = SST2Dataset(train_path, device=device)\n",
        "validation_dataset = SST2Dataset(validation_path, device=device)\n",
        "test_dataset = SST2Dataset(test_path, device=device)\n",
        "\n",
        "vocabulary = train_dataset.get_vocabulary(pad_token=pad_token, unk_token=unk_token)\n",
        "padding_id = vocabulary([pad_token])[0]\n",
        "\n",
        "train_dataset.set_padding_id(padding_id)\n",
        "validation_dataset.set_padding_id(padding_id)\n",
        "test_dataset.set_padding_id(padding_id)\n",
        "\n",
        "train_dataset.index(vocabulary)\n",
        "validation_dataset.index(vocabulary)\n",
        "test_dataset.index(vocabulary)\n",
        "\n",
        "print(f\"Training len: {len(train_dataset)}\")\n",
        "print(f\"Validation len: {len(validation_dataset)}\")\n",
        "print(f\"Test len: {len(test_dataset)}\")\n",
        "\n",
        "training_dataloader = DataLoader(train_dataset, batch_size=128, shuffle=True, collate_fn=train_dataset._collate_fn)\n",
        "validation_dataloader = DataLoader(validation_dataset, batch_size=128, shuffle=False, collate_fn=validation_dataset._collate_fn)\n",
        "test_dataloader = DataLoader(test_dataset, batch_size=128, shuffle=False, collate_fn=test_dataset._collate_fn)\n",
        "\n",
        "sentiment_tagger = BiLSTMModel(\n",
        "    vocabulary_length=len(vocabulary),\n",
        "    hidden_dim=64,\n",
        "    bilstm_layers=2,\n",
        "    bilstm_dropout=0.3,\n",
        "    num_classes=2,\n",
        "    padding_id=padding_id,\n",
        "    device=device\n",
        ")"
      ]
    },
    {
      "cell_type": "markdown",
      "metadata": {
        "id": "wvBnChmE1f4m"
      },
      "source": [
        "... setup a Trainer, and ..."
      ]
    },
    {
      "cell_type": "code",
      "execution_count": null,
      "metadata": {
        "id": "08xwCfL01fCV"
      },
      "outputs": [],
      "source": [
        "trainer = Trainer(\n",
        "    model=sentiment_tagger,\n",
        "    optimizer=torch.optim.Adam(sentiment_tagger.parameters(), lr=0.0001),\n",
        "    log_steps=100\n",
        ")"
      ]
    },
    {
      "cell_type": "markdown",
      "metadata": {
        "id": "29YRz33D16Ec"
      },
      "source": [
        "... train our model."
      ]
    },
    {
      "cell_type": "code",
      "execution_count": null,
      "metadata": {
        "colab": {
          "base_uri": "https://localhost:8080/"
        },
        "id": "qCawaHio15Bn",
        "outputId": "d3c2a506-722e-4ca5-a1a2-18775d5a2064"
      },
      "outputs": [
        {
          "name": "stdout",
          "output_type": "stream",
          "text": [
            "Training ...\n",
            " Epoch  1\n",
            "\t[E:  1 @ step 99] current avg loss = 0.6866\n",
            "\t[E:  1 @ step 199] current avg loss = 0.6838\n",
            "\t[E:  1 @ step 299] current avg loss = 0.6805\n",
            "\t[E:  1 @ step 399] current avg loss = 0.6752\n",
            "\t[E:  1] train loss = 0.6701\n",
            "  [E:  1] valid loss = 0.6468, valid acc = 0.6196\n",
            " Epoch  2\n",
            "\t[E:  2 @ step 99] current avg loss = 0.6270\n",
            "\t[E:  2 @ step 199] current avg loss = 0.6222\n",
            "\t[E:  2 @ step 299] current avg loss = 0.6169\n",
            "\t[E:  2 @ step 399] current avg loss = 0.6122\n",
            "\t[E:  2] train loss = 0.6089\n",
            "  [E:  2] valid loss = 0.5850, valid acc = 0.6840\n",
            " Epoch  3\n",
            "\t[E:  3 @ step 99] current avg loss = 0.5691\n",
            "\t[E:  3 @ step 199] current avg loss = 0.5632\n",
            "\t[E:  3 @ step 299] current avg loss = 0.5562\n",
            "\t[E:  3 @ step 399] current avg loss = 0.5494\n",
            "\t[E:  3] train loss = 0.5448\n",
            "  [E:  3] valid loss = 0.5226, valid acc = 0.7336\n",
            " Epoch  4\n",
            "\t[E:  4 @ step 99] current avg loss = 0.5089\n",
            "\t[E:  4 @ step 199] current avg loss = 0.5054\n",
            "\t[E:  4 @ step 299] current avg loss = 0.4982\n",
            "\t[E:  4 @ step 399] current avg loss = 0.4930\n",
            "\t[E:  4] train loss = 0.4871\n",
            "  [E:  4] valid loss = 0.4752, valid acc = 0.7663\n",
            " Epoch  5\n",
            "\t[E:  5 @ step 99] current avg loss = 0.4503\n",
            "\t[E:  5 @ step 199] current avg loss = 0.4490\n",
            "\t[E:  5 @ step 299] current avg loss = 0.4453\n",
            "\t[E:  5 @ step 399] current avg loss = 0.4426\n",
            "\t[E:  5] train loss = 0.4412\n",
            "  [E:  5] valid loss = 0.4390, valid acc = 0.7904\n",
            " Epoch  6\n",
            "\t[E:  6 @ step 99] current avg loss = 0.4173\n",
            "\t[E:  6 @ step 199] current avg loss = 0.4152\n",
            "\t[E:  6 @ step 299] current avg loss = 0.4129\n",
            "\t[E:  6 @ step 399] current avg loss = 0.4104\n",
            "\t[E:  6] train loss = 0.4084\n",
            "  [E:  6] valid loss = 0.4086, valid acc = 0.8096\n",
            " Epoch  7\n",
            "\t[E:  7 @ step 99] current avg loss = 0.3920\n",
            "\t[E:  7 @ step 199] current avg loss = 0.3893\n",
            "\t[E:  7 @ step 299] current avg loss = 0.3848\n",
            "\t[E:  7 @ step 399] current avg loss = 0.3825\n",
            "\t[E:  7] train loss = 0.3791\n",
            "  [E:  7] valid loss = 0.3884, valid acc = 0.8197\n",
            " Epoch  8\n",
            "\t[E:  8 @ step 99] current avg loss = 0.3533\n",
            "\t[E:  8 @ step 199] current avg loss = 0.3544\n",
            "\t[E:  8 @ step 299] current avg loss = 0.3575\n",
            "\t[E:  8 @ step 399] current avg loss = 0.3568\n",
            "\t[E:  8] train loss = 0.3560\n",
            "  [E:  8] valid loss = 0.3740, valid acc = 0.8279\n",
            " Epoch  9\n",
            "\t[E:  9 @ step 99] current avg loss = 0.3293\n",
            "\t[E:  9 @ step 199] current avg loss = 0.3354\n",
            "\t[E:  9 @ step 299] current avg loss = 0.3356\n",
            "\t[E:  9 @ step 399] current avg loss = 0.3337\n",
            "\t[E:  9] train loss = 0.3336\n",
            "  [E:  9] valid loss = 0.3527, valid acc = 0.8402\n",
            " Epoch 10\n",
            "\t[E: 10 @ step 99] current avg loss = 0.3179\n",
            "\t[E: 10 @ step 199] current avg loss = 0.3171\n",
            "\t[E: 10 @ step 299] current avg loss = 0.3164\n",
            "\t[E: 10 @ step 399] current avg loss = 0.3167\n",
            "\t[E: 10] train loss = 0.3168\n",
            "  [E: 10] valid loss = 0.3433, valid acc = 0.8461\n",
            "... Done!\n"
          ]
        }
      ],
      "source": [
        "losses = trainer.train(training_dataloader, validation_dataloader, epochs=10)"
      ]
    },
    {
      "cell_type": "markdown",
      "metadata": {
        "id": "vqzeK3YgbcFF"
      },
      "source": [
        "## Evaluation"
      ]
    },
    {
      "cell_type": "code",
      "execution_count": null,
      "metadata": {
        "colab": {
          "base_uri": "https://localhost:8080/",
          "height": 452
        },
        "id": "NIFHtnNPWOrK",
        "outputId": "406ce500-1882-4883-9449-23fb9229bbe0"
      },
      "outputs": [
        {
          "data": {
            "image/png": "[encoded data removed]",
            "text/plain": [
              "<Figure size 640x480 with 1 Axes>"
            ]
          },
          "metadata": {},
          "output_type": "display_data"
        }
      ],
      "source": [
        "import matplotlib.pyplot as plt\n",
        "\n",
        "plt.title(\"losses\")\n",
        "plt.plot(losses[\"train_losses\"], label=\"train\")\n",
        "plt.plot(losses[\"valid_losses\"], label=\"valid\")\n",
        "plt.legend()\n",
        "plt.show()"
      ]
    },
    {
      "cell_type": "code",
      "execution_count": null,
      "metadata": {
        "colab": {
          "base_uri": "https://localhost:8080/",
          "height": 452
        },
        "id": "ouIRXxcpZdE1",
        "outputId": "5e0a5ecb-59ec-47d5-eef1-f70e1c051c8b"
      },
      "outputs": [
        {
          "data": {
            "image/png": "[encoded data removed]",
            "text/plain": [
              "<Figure size 640x480 with 1 Axes>"
            ]
          },
          "metadata": {},
          "output_type": "display_data"
        }
      ],
      "source": [
        "plt.title(\"accuracy\")\n",
        "plt.plot(losses[\"valid_acc\"], label=\"valid accuracy\")\n",
        "plt.legend()\n",
        "plt.show()"
      ]
    },
    {
      "cell_type": "code",
      "execution_count": null,
      "metadata": {
        "id": "9a40FlrlY_0g"
      },
      "outputs": [],
      "source": [
        "test_loss, test_acc = trainer.evaluate(test_dataloader)"
      ]
    },
    {
      "cell_type": "code",
      "execution_count": null,
      "metadata": {
        "colab": {
          "base_uri": "https://localhost:8080/"
        },
        "id": "fhr4-7N_bMs0",
        "outputId": "57301599-0aa2-475f-abc2-ad4ab387f1a5"
      },
      "outputs": [
        {
          "name": "stdout",
          "output_type": "stream",
          "text": [
            "Test loss 0.6478420666285923, Test accuracy: 0.75\n"
          ]
        }
      ],
      "source": [
        "print(f\"Test loss {test_loss}, Test accuracy: {test_acc}\")"
      ]
    },
    {
      "cell_type": "markdown",
      "metadata": {
        "id": "a9FhOKVobal-"
      },
      "source": [
        "## Get your hands dirty\n",
        "\n",
        "Try to play a bit with the architecture, changing some hyperparameters, maybe adding more layers or changing the hidden size."
      ]
    },
    {
      "cell_type": "code",
      "execution_count": null,
      "metadata": {
        "colab": {
          "base_uri": "https://localhost:8080/",
          "height": 38
        },
        "id": "O18aAUhjbhIt",
        "outputId": "a13f28f3-5ac5-4763-d77b-73cbaa91b1de"
      },
      "outputs": [
        {
          "data": {
            "application/vnd.google.colaboratory.intrinsic+json": {
              "type": "string"
            },
            "text/plain": [
              "'\\nmy_sentiment_tagger = BiLSTMModel(\\n    vocabulary_length=len(vocabulary),\\n    ...\\n    num_classes=2,\\n    padding_index=padding_idx,\\n    device=device\\n)\\n'"
            ]
          },
          "execution_count": 18,
          "metadata": {},
          "output_type": "execute_result"
        }
      ],
      "source": [
        "\"\"\"\n",
        "my_sentiment_tagger = BiLSTMModel(\n",
        "    vocabulary_length=len(vocabulary),\n",
        "    ...\n",
        "    num_classes=2,\n",
        "    padding_index=padding_idx,\n",
        "    device=device\n",
        ")\n",
        "\"\"\""
      ]
    }
  ],
  "metadata": {
    "accelerator": "GPU",
    "colab": {
      "gpuType": "T4",
      "provenance": []
    },
    "kernelspec": {
      "display_name": "Python 3",
      "name": "python3"
    },
    "language_info": {
      "codemirror_mode": {
        "name": "ipython",
        "version": 3
      },
      "file_extension": ".py",
      "mimetype": "text/x-python",
      "name": "python",
      "nbconvert_exporter": "python",
      "pygments_lexer": "ipython3",
      "version": "3.12.3"
    }
  },
  "nbformat": 4,
  "nbformat_minor": 0
}
